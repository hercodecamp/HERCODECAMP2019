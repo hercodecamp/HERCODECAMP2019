{
  "nbformat": 4,
  "nbformat_minor": 0,
  "metadata": {
    "colab": {
      "name": "HCC-Day1-Part3-Master.ipynb",
      "version": "0.3.2",
      "provenance": [],
      "collapsed_sections": []
    },
    "kernelspec": {
      "name": "python3",
      "display_name": "Python 3"
    }
  },
  "cells": [
    {
      "cell_type": "markdown",
      "metadata": {
        "id": "u2tt1mu_iwSK",
        "colab_type": "text"
      },
      "source": [
        "# HER CODE CAMP Intro to Python - Day 1 - Olympics Data\n",
        "---"
      ]
    },
    {
      "cell_type": "code",
      "metadata": {
        "id": "-Aj7a1xPqeFm",
        "colab_type": "code",
        "colab": {}
      },
      "source": [
        "import pandas as pd, seaborn as sns"
      ],
      "execution_count": 0,
      "outputs": []
    },
    {
      "cell_type": "markdown",
      "metadata": {
        "id": "x1CdBMmMul0z",
        "colab_type": "text"
      },
      "source": [
        "Let's look at a larger dataset: information about the athletes who have competed at the Olympic games over the past 120 years, including physical characteristics of the atheletes and details about the events in which they competed. The dataset was originally obtained on [Kaggle](https://www.kaggle.com/heesoo37/120-years-of-olympic-history-athletes-and-results), but we are storing the dataset on github so everyone can access it easily from the website without creating a Kaggle acount and downloading it.\n",
        "\n",
        "You can take a took at the data by clicking [here](https://raw.githubusercontent.com/hgibling/Olympics/master/athlete_events.csv). The file extension is **`.csv`**, which stands for **comma separated values**. This means that the values from each column are separated by commas. It's a way for the computer to know that a value belongs to a single column even if it contains a space, such as the value 'United States'.\n",
        "\n",
        "Pandas has a function **`.read_csv()`** to let the computer know that the columns are separated by commas, so when we load it into python the commas are removed and it looks nice and clean. Let's grab the dataset off of the internet and see how many rows and columns there are:"
      ]
    },
    {
      "cell_type": "code",
      "metadata": {
        "id": "WfDFHTj6t6KI",
        "colab_type": "code",
        "colab": {}
      },
      "source": [
        "olympics = pd.read_csv(\"https://raw.githubusercontent.com/hgibling/Olympics/master/athlete_events.csv\")\n",
        "print(olympics.shape)"
      ],
      "execution_count": 0,
      "outputs": []
    },
    {
      "cell_type": "markdown",
      "metadata": {
        "id": "vhidPG_81Cw8",
        "colab_type": "text"
      },
      "source": [
        "We used the **`.shape`** attribute of the olympics dataset to find out the dimensions, but we didn't put brackets at the end. Why not? **`.shape`** is not a function, but simply a descriptive attribute, so we don't need the brackets.\n",
        "\n",
        "We have 271,116 rows and 15 columns, that's huge! We probably shouldn't try to view the entire dataset using print, so let's look at the first few rows using the **`.head()`** attribute function. This time we *will* put brackets after the attribute name because it is a function that can take options or arguments (the number of rows we want to view, specified with **`n=`**):"
      ]
    },
    {
      "cell_type": "code",
      "metadata": {
        "id": "JrrU5OckuaLB",
        "colab_type": "code",
        "colab": {}
      },
      "source": [
        "olympics.head(n=10)"
      ],
      "execution_count": 0,
      "outputs": []
    },
    {
      "cell_type": "markdown",
      "metadata": {
        "id": "opSvJqHO33bs",
        "colab_type": "text"
      },
      "source": [
        "The columns are named, which is helpful (by default, **`.read_csv()`** assumes the first row is the column names). Some of the values are **`NaN`**, which stands for **Not a Number** and is usually used when a value is expected to be a number, but for some reason isn't. In this case it looks lilke it's being used for **missing values**. It's very common to have some missing values in large datasets--sometimes data aren't collected, they aren't available, or they get lost when compiling the data. Other times it's because writing 0 doesn't really make sense, such as with the Medal column in the olympics data. If an athlete didn't win a medal, the value is **`NaN`**.\n",
        "\n",
        "We can quicky calculate some statistics about our data using the **`.describe()`** attribute feature. It will only provide information about the numerical columns:"
      ]
    },
    {
      "cell_type": "code",
      "metadata": {
        "id": "Bvq5dYgP_Cgo",
        "colab_type": "code",
        "colab": {}
      },
      "source": [
        "olympics.describe()"
      ],
      "execution_count": 0,
      "outputs": []
    },
    {
      "cell_type": "markdown",
      "metadata": {
        "id": "GktEpXXp_DSW",
        "colab_type": "text"
      },
      "source": [
        "Because this dataset is so huge, let's grab a subset (a smaller portion) of it. We often use subsets when we want to test things or explore data. There are a couple of ways we can do this. First, we can grab the first *X* number of rows, such as the first 500 rows. Do you remember what attribute function we used to do this?"
      ]
    },
    {
      "cell_type": "code",
      "metadata": {
        "id": "-8ncP1-Tv7Su",
        "colab_type": "code",
        "colab": {}
      },
      "source": [
        "olympics_first_500 = olympics.iloc[0:500, :]\n",
        "print(olympics_first_500.shape)"
      ],
      "execution_count": 0,
      "outputs": []
    },
    {
      "cell_type": "markdown",
      "metadata": {
        "id": "VJ6rAH12wNDB",
        "colab_type": "text"
      },
      "source": [
        "However, we don't know how the entries have been arranged, so grabbing the first 500 might not give us a representative subset of the data. Maybe athletes from earlier games are clustered near the top, or maybe it's alphabetical by athlete name. To get a representative sample, we should randomly select 500 rows. We can do this using the **`.sample()`** attribute function:"
      ]
    },
    {
      "cell_type": "code",
      "metadata": {
        "id": "rgbaOZYzwLkH",
        "colab_type": "code",
        "colab": {}
      },
      "source": [
        "olympics_random_500 = olympics.sample(n=500, axis=\"index\")\n",
        "print(olympics_random_500.shape)\n",
        "olympics_random_500.head()"
      ],
      "execution_count": 0,
      "outputs": []
    },
    {
      "cell_type": "markdown",
      "metadata": {
        "id": "kEGJKTPk1NB0",
        "colab_type": "text"
      },
      "source": [
        "Run the above cell a few times. Do the entries change each time? That's good! It means it really is randomly picking 500 rows. But since there is a room full of us learning together, it might be helpful if we all had the same results. We can set a **seed** or **random state** when picking the random rows. If we all use the same seed, we will all have the same results!\n",
        "\n",
        "Try running the following code a few times to confirm this:"
      ]
    },
    {
      "cell_type": "code",
      "metadata": {
        "id": "6yFcG9Sn1NWe",
        "colab_type": "code",
        "colab": {}
      },
      "source": [
        "olympics_random_500 = olympics.sample(n=500, axis=\"index\", random_state=123)\n",
        "olympics_random_500.head()"
      ],
      "execution_count": 0,
      "outputs": []
    },
    {
      "cell_type": "markdown",
      "metadata": {
        "id": "cMqJBQZiz1nm",
        "colab_type": "text"
      },
      "source": [
        "We can also use the **`.sample()`** attribute function to randomly select a *percentage* of the data. Let's specify that we want to get a random sample of 10% of the data (a fraction of 0.1):"
      ]
    },
    {
      "cell_type": "code",
      "metadata": {
        "id": "fAMAGympz0uZ",
        "colab_type": "code",
        "colab": {}
      },
      "source": [
        "olympics_percent = olympics.sample(frac=0.1, axis=\"index\", random_state=42)\n",
        "print(olympics_percent.shape)\n",
        "olympics_percent.head()"
      ],
      "execution_count": 0,
      "outputs": []
    },
    {
      "cell_type": "markdown",
      "metadata": {
        "id": "5BWGM7Re2ZmC",
        "colab_type": "text"
      },
      "source": [
        "We can also subset the data based on a feature. This is where we can get creative and find out interesting facts about our data! Let's select only the athletes that competed when they were teenagers. We can do that using a **logic** statement for the Age column:"
      ]
    },
    {
      "cell_type": "code",
      "metadata": {
        "id": "LBqI8mOp3lVo",
        "colab_type": "code",
        "colab": {}
      },
      "source": [
        "olympics_teens = olympics[olympics.Age < 20]\n",
        "olympics_teens.head()"
      ],
      "execution_count": 0,
      "outputs": []
    },
    {
      "cell_type": "markdown",
      "metadata": {
        "id": "viTLDZ9EDt_Y",
        "colab_type": "text"
      },
      "source": [
        "Let's break down what we did. Remember when we used square brackets for slicing strings and lists? We are using them again for slicing (or subsetting) the dataframe. So **`olympics[]`** will subset the olympics dataframe based on what is inside the brackets.\n",
        "\n",
        "Inside we have the logical statement **`olympics.Age < 20`**. Here we are using dot notation to access the Age attribute of the data. That's right, columns are considered attributes! **`olympics.Age`** is the same as saying  **`olympics.loc[:,'Age']`** or **`olympics['Age']`**. When you are working with multiple sets of brackets, it's easier to call columns as attributes.\n",
        "\n",
        "What happens when we run this statement by itself?:"
      ]
    },
    {
      "cell_type": "code",
      "metadata": {
        "id": "xbkRUhskDnvR",
        "colab_type": "code",
        "colab": {}
      },
      "source": [
        "print(olympics.Age < 20)"
      ],
      "execution_count": 0,
      "outputs": []
    },
    {
      "cell_type": "markdown",
      "metadata": {
        "id": "MoKFvmFz3yBe",
        "colab_type": "text"
      },
      "source": [
        "The result is a pandas series with a **boolean** (true/false) value for each row. The rows that had Age < 20 are marked **True**, and the rest are **False**. So when this logical statement is placed inside the subsetting brackets with **`olympics[olympics.Age < 20]`**, our dataset **`olympics`** is subset based on which rows are True by that logic.\n",
        "\n",
        "We can subset based on multiple factors at the same time. How about getting the female teenagers from Canada? We can do this using the **`&`** operand to specify that rows should meet all of the criteria inside the square brackets. We can keep things tidy by assigning the logic statements to variables before subsetting:"
      ]
    },
    {
      "cell_type": "code",
      "metadata": {
        "id": "CndqCa5FAVlh",
        "colab_type": "code",
        "colab": {}
      },
      "source": [
        "age_logic = olympics.Age < 20\n",
        "team_logic = olympics.Team == \"Canada\"\n",
        "sex_logic = olympics.Sex == \"F\"\n",
        "\n",
        "olympics_can_teens = olympics[age_logic & team_logic & sex_logic]\n",
        "olympics_can_teens.head()"
      ],
      "execution_count": 0,
      "outputs": []
    },
    {
      "cell_type": "markdown",
      "metadata": {
        "id": "hau-u7bl8pOu",
        "colab_type": "text"
      },
      "source": [
        "---\n",
        "## Exercise 11\n",
        "How many athletes from the United States competed as senior citizens (65 years old or older)?\n",
        "\n",
        "*Hint: You will want to use two logic statements and can check the shape of the resulting dataframe.*"
      ]
    },
    {
      "cell_type": "code",
      "metadata": {
        "id": "cbQ1JN_E9CGg",
        "colab_type": "code",
        "colab": {}
      },
      "source": [
        "age_logic = olympics.Age >= 65\n",
        "team_logic = olympics.Team == \"United States\"\n",
        "\n",
        "olympics_us_seniors = olympics[age_logic & team_logic]\n",
        "print(olympics_us_seniors.shape)\n",
        "olympics_us_seniors.head()"
      ],
      "execution_count": 0,
      "outputs": []
    },
    {
      "cell_type": "markdown",
      "metadata": {
        "id": "CF7jTvfS9OEG",
        "colab_type": "text"
      },
      "source": [
        "---"
      ]
    },
    {
      "cell_type": "markdown",
      "metadata": {
        "id": "GTLa8ujCBskQ",
        "colab_type": "text"
      },
      "source": [
        "How about only athletes that won a medal? Since there are three possible medals that could be won, we can use the attribute function **`.isin()`** to provide a list of acceptable values. This way we don't have to write out three logic statements:"
      ]
    },
    {
      "cell_type": "code",
      "metadata": {
        "id": "BzL10HnZGSs4",
        "colab_type": "code",
        "colab": {}
      },
      "source": [
        "olympics_medals = olympics[olympics.Medal.isin([\"Gold\", \"Silver\", \"Bronze\"])]\n",
        "olympics_medals.head()"
      ],
      "execution_count": 0,
      "outputs": []
    },
    {
      "cell_type": "markdown",
      "metadata": {
        "id": "lCVuJTNNGTWz",
        "colab_type": "text"
      },
      "source": [
        "But we could also do this by taking advantage of the fact that non-medal winners have a value of  **`NaN`**. This is handy when there might be multiple options for a column and you don't want to type out a list that contains each possiblity.\n",
        "\n",
        "The syntax, or the way the command is written, is a bit different than how the logical arguements and **`.isin()`** examples were written, but the idea is still the same. We are subsetting the **`olympics`** dataframe (using square brackets), and using the pandas function **`notnull()`** while specifying that we want to see which rows are *not* null (not **`NaN`**) for the column 'Medal':"
      ]
    },
    {
      "cell_type": "code",
      "metadata": {
        "id": "UfHPPMXg2oCO",
        "colab_type": "code",
        "colab": {}
      },
      "source": [
        "olympics_medals = olympics[pd.notnull(olympics.Medal)]\n",
        "olympics_medals.head()"
      ],
      "execution_count": 0,
      "outputs": []
    },
    {
      "cell_type": "markdown",
      "metadata": {
        "id": "6BodEH4fWBN4",
        "colab_type": "text"
      },
      "source": [
        "What if we wanted to tally up how many atheletes have competed from each country over the years? It would take forever to make a subset of the data for each country and do the counting! Instead we can use the **`.groupby()`** attribute function. This performs a **split-apply-combine** approach to do these calculate automatically:\n",
        "\n",
        "- **split** - split the dataset based on specified groups (e.g. Country)\n",
        "- **apply** - perform a function on each group (e.g. count)\n",
        "- **combine** - put the dataset back together\n",
        "\n",
        "Let's give it a try, applying the **`.count()`** function to our grouped data:"
      ]
    },
    {
      "cell_type": "code",
      "metadata": {
        "id": "KxiTHE38WBp0",
        "colab_type": "code",
        "colab": {}
      },
      "source": [
        "olympics_country = olympics.groupby(['Team']).count()\n",
        "olympics_country.head()"
      ],
      "execution_count": 0,
      "outputs": []
    },
    {
      "cell_type": "markdown",
      "metadata": {
        "id": "29oA6xJXlisq",
        "colab_type": "text"
      },
      "source": [
        "The **`.groupby()`** attribute function performs the splitting and combining, but we need to specify the apply function separately, which we did by chaining **`.count()`** at the end. \n",
        "\n",
        "**`.count()`** counted the number of entries for each column based on how the dataset was split (in our case by Team, the country). Looking at Afghanistan, some columns have different numbers. This is because there were a lot of **`NaN`** or missing values in the dataframe. 'ID' is a good column to look at to determine how many athletes participated, since each athlete has a unique ID. \n",
        "\n",
        "What's up with the first few entries? **'30. Februar'** and **'A North American Team'** are not countries! It looks like whoever compiled this dataset had a few errors. That is an unfortunate reality of working with other people's data--it's sometimes messy!\n",
        "\n",
        "We can sort the data in ascending or descending order based on a specific column. This makes it easier for us to see the extremes of our dataset. Let's sort the number of athletes per country that we just found using the **`.sort_values()`** attribute function:"
      ]
    },
    {
      "cell_type": "code",
      "metadata": {
        "id": "s4mxfphVsAtk",
        "colab_type": "code",
        "colab": {}
      },
      "source": [
        "olympics_country.sort_values(\"ID\", ascending=False).head()"
      ],
      "execution_count": 0,
      "outputs": []
    },
    {
      "cell_type": "markdown",
      "metadata": {
        "id": "DIqOKbD3TNqs",
        "colab_type": "text"
      },
      "source": [
        "---\n",
        "## Exercise 12\n",
        "Use **`.groupby()`** and other functions that we've learned to find out the following:\n",
        "\n",
        " - What is the average age of the male athletes and the female athletes?\n",
        " - What olympic games had the most athletes participate?\n",
        " - Which athlete has won the most medals?"
      ]
    },
    {
      "cell_type": "code",
      "metadata": {
        "id": "enOoUphIqLGi",
        "colab_type": "code",
        "colab": {}
      },
      "source": [
        "# average age based on sex\n",
        "olympics_age = olympics.groupby(['Sex']).mean()\n",
        "print(olympics_age.Age)"
      ],
      "execution_count": 0,
      "outputs": []
    },
    {
      "cell_type": "code",
      "metadata": {
        "id": "SDp4qIitiB3j",
        "colab_type": "code",
        "colab": {}
      },
      "source": [
        "# games with most participants\n",
        "olympics_numbers = olympics.groupby(['Games']).count().sort_values('ID', ascending=False)\n",
        "print(olympics_numbers.ID.head())"
      ],
      "execution_count": 0,
      "outputs": []
    },
    {
      "cell_type": "code",
      "metadata": {
        "id": "ENSjMlvGiCLw",
        "colab_type": "code",
        "colab": {}
      },
      "source": [
        "# athletes with most medals\n",
        "olympics_athletes_medals = olympics.groupby(['Name']).count().sort_values('Medal', ascending=False)\n",
        "print(olympics_athletes_medals.Medal.head())"
      ],
      "execution_count": 0,
      "outputs": []
    },
    {
      "cell_type": "markdown",
      "metadata": {
        "id": "7PuKQQCg3y5y",
        "colab_type": "text"
      },
      "source": [
        "---"
      ]
    },
    {
      "cell_type": "markdown",
      "metadata": {
        "id": "_d1pM3lTCdbr",
        "colab_type": "text"
      },
      "source": [
        "# Seaborn\n",
        "\n",
        "Showing our data in tables is cool and everything, but it would be really useful if we could visualize some of these trends. Learning how to graph in python is a really useful skill, especially if you want to present your data to someone else. To do that, we are going to use a library called **seaborn**. We already imported seaborn earlier with **`import seaborn as sns`**."
      ]
    },
    {
      "cell_type": "markdown",
      "metadata": {
        "id": "XKT8Rxm7f5c4",
        "colab_type": "text"
      },
      "source": [
        "Now we have to load the default seaborn theme, colour palette, and scaling. We can do that with the following line:"
      ]
    },
    {
      "cell_type": "code",
      "metadata": {
        "id": "qpbTudwtfXU7",
        "colab_type": "code",
        "colab": {}
      },
      "source": [
        "sns.set()"
      ],
      "execution_count": 0,
      "outputs": []
    },
    {
      "cell_type": "markdown",
      "metadata": {
        "id": "vbiuEqUXgYQy",
        "colab_type": "text"
      },
      "source": [
        "Let's try visualizing the height of Olympians from our Olympics dataset as a function of the year. First, let's remove all the **`NaN`** (empty/null) values from our dataset!"
      ]
    },
    {
      "cell_type": "code",
      "metadata": {
        "id": "n42W1Vx1f_XV",
        "colab_type": "code",
        "colab": {}
      },
      "source": [
        "sns.relplot(data=olympics, \n",
        "            x=\"Year\", y=\"Height\")"
      ],
      "execution_count": 0,
      "outputs": []
    },
    {
      "cell_type": "markdown",
      "metadata": {
        "id": "EwUJYS1Mih9r",
        "colab_type": "text"
      },
      "source": [
        "Let's break apart that code:\n",
        "\n",
        "- **`.relplot()`** is the name of the function from the **`sns`** module we are using. It's called **`relplot()`** because it visualizes *relationships* between variables.\n",
        "- We pass our dataset into the function with the following argument: **`data=olympics_medals`**\n",
        "- Our dataset should be in a pandas dataframe, so it's good we did all that work before. \n",
        "- **`x=\"Year\"`** is the data we want to have on our **x-axis**. \"Year\" is the name of the column from our **`olympics_medals`** dataset. \n",
        "- **`y=\"Height\"`** is the data we want to have on our **y-axis**. Again, \"Height\" is the column name from our **`olympics_medals`** dataset. \n",
        "\n",
        "Each point on the plot is the height and year data for one row in our dataset.\n",
        "\n",
        "Visualizing our data can help us extract information that we probably wouldn't get just by looking at the numbers. For example, notice that there are two gaps in the x-axis around 1918 and 1940. Why weren't any Olympics held in those years?\n",
        "\n",
        "Let's try adding some information to make the graph more interesting!\n"
      ]
    },
    {
      "cell_type": "code",
      "metadata": {
        "id": "QZdlizltgzzC",
        "colab_type": "code",
        "colab": {}
      },
      "source": [
        "sns.relplot(data=olympics, x=\"Year\", y=\"Height\", hue=\"Medal\", style=\"Sex\")"
      ],
      "execution_count": 0,
      "outputs": []
    },
    {
      "cell_type": "markdown",
      "metadata": {
        "id": "oN2Zvs15rZY5",
        "colab_type": "text"
      },
      "source": [
        "Here we passed two other variable sinto our function: \n",
        "- **`hue`**, which determines the colours of the points\n",
        "- **`style`**, which determines how the markers look.\n",
        "\n",
        "Notice that we passed a column names to the variables: **`hue=\"Medal\"`** and **`style=\"Sex\"`**\n",
        "\n",
        "This might not be intuitive since we don't actually pass any colour or marker names. Seaborn automatically looks at the columns, counts how many unique catergories we have, and assigns a colour/marker for each category. In this case, we have three categories for colour: gold, silver, and bronze (NaN is not plotted), and two categories for markers: male and female."
      ]
    },
    {
      "cell_type": "markdown",
      "metadata": {
        "id": "ERZ_TlALe1Fv",
        "colab_type": "text"
      },
      "source": [
        "Now let's plot some **categorical** data, which does *not* contain any numbers. Let's plot age vs medal won. To do that, we're going to use a **boxplot**, which we do by calling **`sns.boxplot()`**. We're going to pass in our dataset. For **`x`**, we're going to pass in our category (which is **`\"Medal\"`**) and for **`y`**, we're going to pass in **`\"Age\"`**:"
      ]
    },
    {
      "cell_type": "code",
      "metadata": {
        "id": "mmCFEhfhQfzu",
        "colab_type": "code",
        "colab": {}
      },
      "source": [
        "sns.boxplot(data=olympics, x=\"Medal\", y=\"Age\")"
      ],
      "execution_count": 0,
      "outputs": []
    },
    {
      "cell_type": "markdown",
      "metadata": {
        "id": "T5trhluEX-Vq",
        "colab_type": "text"
      },
      "source": [
        "Remember that boxplots are a way to look at the **distribution** of our data.\n",
        "- The box represents the 25th (first quartile or Q1) to 75th percentile (third quartile or Q3), also known as the **interquartile range or IQR**.\n",
        "- The **median** (second quartile or Q2) is marked as a line in the box.\n",
        "- The whiskers or lines of the plot extend from Q1-(1.5\\*IQR) to Q3+(1.5\\*IQR), and we expect the majority of our data to fall within this range.\n",
        "- **Outliers** are depicted as dots above and below the whiskers. \n",
        "\n",
        "For our data, the boxes are fairly compact, meaning the athlete ages generally don't have a wide distribution. We do have several outliers of athletes who competed when they were older than 40!\n",
        "\n",
        "By default, seaborn ignores values that are **`NaN`** and doesn't plot them. But it might be interesting to plot the data of the non-medal winners as well. Let's create a new column for our dataset where we change all of the **`NaN`** values to the string \"None\" to make a fourth category for the medal, and then plot it. Let's also separate the boxplots for males and females using the **`hue`** argument:"
      ]
    },
    {
      "cell_type": "code",
      "metadata": {
        "id": "rDcRpHrDR_RS",
        "colab_type": "code",
        "colab": {}
      },
      "source": [
        "olympics[\"Medal2\"] = olympics.Medal.fillna(\"None\")\n",
        "sns.boxplot(data=olympics, x=\"Medal2\", y=\"Age\", hue=\"Sex\")"
      ],
      "execution_count": 0,
      "outputs": []
    },
    {
      "cell_type": "markdown",
      "metadata": {
        "id": "bfbzualyguzi",
        "colab_type": "text"
      },
      "source": [
        "What about making a boxplot that compares the distribution of heights of the althetes competing in different sports? Let's grab a subset of our data: the athletes who competing in the Winter games. Then let's plot the Height on the x-axis and the Sport on the y-axis so it's easier for us to read the labels:"
      ]
    },
    {
      "cell_type": "code",
      "metadata": {
        "id": "DVOXlUvdWRh4",
        "colab_type": "code",
        "colab": {}
      },
      "source": [
        "olympics_winter = olympics[olympics.Season == \"Winter\"]\n",
        "sns.boxplot(data=olympics_winter, x=\"Height\", y=\"Sport\")"
      ],
      "execution_count": 0,
      "outputs": []
    },
    {
      "cell_type": "markdown",
      "metadata": {
        "id": "zCR9XGXXZgQj",
        "colab_type": "text"
      },
      "source": [
        "---\n",
        "### This is just a small sampling of the kinds of things you can do to explore datasets. We hope you enjoyed it!"
      ]
    }
  ]
}