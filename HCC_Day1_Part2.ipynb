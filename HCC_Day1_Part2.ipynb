{
  "nbformat": 4,
  "nbformat_minor": 0,
  "metadata": {
    "colab": {
      "name": "HCC-Day1-Part2.ipynb",
      "version": "0.3.2",
      "provenance": [],
      "collapsed_sections": []
    },
    "kernelspec": {
      "name": "python3",
      "display_name": "Python 3"
    }
  },
  "cells": [
    {
      "cell_type": "markdown",
      "metadata": {
        "id": "u2tt1mu_iwSK",
        "colab_type": "text"
      },
      "source": [
        "# HER CODE CAMP Intro to Python - Day 1 - Data Exploration\n",
        "---"
      ]
    },
    {
      "cell_type": "markdown",
      "metadata": {
        "id": "44vhuqfzqLKh",
        "colab_type": "text"
      },
      "source": [
        "# Using Python Modules\n",
        "\n",
        "One great thing about python is that there are a lot of modules, or add-on packages, that you can use to analyze your data. These provide extra functions beyond what's available in standard python. We will be using two modules to analyze our data today: **Pandas** and **Seaborn**.\n",
        "\n",
        "**Pandas** is used for working with mixed data types, such as character strings and associated numbers, in data tables or grids. **Seaborn** is used to visualize or plot data.\n",
        "\n",
        "To load a module in python, it first needs to be installed. These modules are already installed on the cloud computers that we are using, so we can import them right away. People often give libraries short ‘nicknames’ to avoid having to type out long names all the time:"
      ]
    },
    {
      "cell_type": "code",
      "metadata": {
        "id": "-Aj7a1xPqeFm",
        "colab_type": "code",
        "colab": {}
      },
      "source": [
        ""
      ],
      "execution_count": 0,
      "outputs": []
    },
    {
      "cell_type": "markdown",
      "metadata": {
        "id": "4ev0G3pgqxl6",
        "colab_type": "text"
      },
      "source": [
        "# Pandas\n",
        "\n",
        "Let’s start with an example of a one-dimensional data set: the grades of a student named Lisa for 3 tests in a science class. We can represent this as a list:\n"
      ]
    },
    {
      "cell_type": "code",
      "metadata": {
        "id": "Q0DgiSjiqyr-",
        "colab_type": "code",
        "colab": {}
      },
      "source": [
        ""
      ],
      "execution_count": 0,
      "outputs": []
    },
    {
      "cell_type": "markdown",
      "metadata": {
        "id": "2iU8IVF6rIAZ",
        "colab_type": "text"
      },
      "source": [
        "Let's say we want to know the grades of all the students in this science class and determine averages. If we were to use regular python lists, we would have to make many separate lists and try to piece them together:\n"
      ]
    },
    {
      "cell_type": "code",
      "metadata": {
        "id": "I9PatEKwrNHD",
        "colab_type": "code",
        "colab": {}
      },
      "source": [
        "Lisa = [95, 83, 79]\n",
        "Emily = [75, 91, 88]\n",
        "Shraddha = [87, 95, 89]\n",
        "Lin = [90, 91, 88]\n",
        "Jess = [74, 77, 84]\n",
        "Riley = [92, 92, 85]\n",
        "Nicola = [77, 86, 87]\n",
        "\n",
        "# make a list of lists of all the students\n",
        "student_grades = [Lisa, Emily, Shraddha, Lin, Jess, Riley, Nicola]"
      ],
      "execution_count": 0,
      "outputs": []
    },
    {
      "cell_type": "markdown",
      "metadata": {
        "id": "ZoMy11BVlM4w",
        "colab_type": "text"
      },
      "source": [
        "This isn't very organized! Instead we can make a table where the grades for each student are stored in rows and the grades for each test are stored in columns. This is also called a **dataframe**. We will do this using the **`.DataFrame()`** function from pandas:"
      ]
    },
    {
      "cell_type": "code",
      "metadata": {
        "id": "baJsTKfcjhH1",
        "colab_type": "code",
        "colab": {}
      },
      "source": [
        ""
      ],
      "execution_count": 0,
      "outputs": []
    },
    {
      "cell_type": "markdown",
      "metadata": {
        "id": "jVpEmonGra8i",
        "colab_type": "text"
      },
      "source": [
        "We use **`pd.`** to specify that the **`DataFrame()`** function is part of the pandas module. Basically, the the thing after the dot is an *attribute* or a *feature* of the thing before the dot. We call this **dot notation** in python. So, **`.DataFrame()`** is a function that belongs to the **`pd`** module.\n",
        "\n",
        "With pandas dataframes, each column is a pandas **series**, which is similar to a python list (but with a bit more information). You can think of a pandas dataframe as a collection of lists.\n",
        "\n",
        "Notice that there are numbers along the top and left side of the table. Each of these is an *index*, which is added by pandas to make it easier to see which row or column you are working with. Remember when we were slicing lists this morning? Each item in the list had an index value, but we couldn't see it. Pandas is simply showing us these indexes.\n",
        "\n",
        "It's not easy to immediately determine which value is for which test or which student, but they are in the same order that we entered the data when we were making the dataframe. We can label the indexes instead to make it easier to see which grade belongs to which student and for what test. We can do this when making the dataframe by specifying a variable for the **`columns`** argument:"
      ]
    },
    {
      "cell_type": "code",
      "metadata": {
        "id": "Ixo7BhzVuqpG",
        "colab_type": "code",
        "colab": {}
      },
      "source": [
        ""
      ],
      "execution_count": 0,
      "outputs": []
    },
    {
      "cell_type": "markdown",
      "metadata": {
        "id": "eJBsV3I5tNay",
        "colab_type": "text"
      },
      "source": [
        "That looks better! Let's go one step further and label the row index with the student names. We can also do this when making the dataframe initially by specifying a variable for the **`index`** argument:\n"
      ]
    },
    {
      "cell_type": "code",
      "metadata": {
        "id": "OVB5RJlXtRaj",
        "colab_type": "code",
        "colab": {}
      },
      "source": [
        "student_names = [\"Lisa\", \"Emily\", \"Shraddha\", \"Lin\", \"Jess\", \"Riley\", \"Nicola\"]"
      ],
      "execution_count": 0,
      "outputs": []
    },
    {
      "cell_type": "markdown",
      "metadata": {
        "id": "jODDD9VttkMk",
        "colab_type": "text"
      },
      "source": [
        "Now it's much easier to see at a glance which grade belongs to who and for what test. If we wanted to isolate the grades for Riley, we can do that without having to check which row number they are in:\n"
      ]
    },
    {
      "cell_type": "code",
      "metadata": {
        "id": "YR4tNICotoOW",
        "colab_type": "code",
        "colab": {}
      },
      "source": [
        ""
      ],
      "execution_count": 0,
      "outputs": []
    },
    {
      "cell_type": "markdown",
      "metadata": {
        "id": "XMUD8RQztq14",
        "colab_type": "text"
      },
      "source": [
        "Notice how we used dot notation, but after the name of a pandas dataframe instead of the pandas module itself. Every time we make a variable, it has certain attributes assoicated with it. \n",
        "- The pandas dataframes have the **`.loc[]`** attribute, so we are specifying that we want to access the **`.loc[]`** attribute from the **`grades`** dataframe\n",
        "- **`.loc`** is used to select the data at the specified *location*, \n",
        "- When slicing two-dimensional arrays, the convention is **`[rows, columns]`**\n",
        "- In this case, we want the row named \"Riley\" and all of the columns (indicated by ‘**`:`**’ on its own): **`[\"Riley\", :]`**. \n",
        "\n",
        "Remember when I said a pandas dataframe is a collection of pandas series, which are similar to lists but with more information? We see that extra information here:\n",
        "- Test names for each grade (column names)\n",
        "- Name of the index (student names)\n",
        "- **`dtype`** or data type (**`int64`** means the value is an integer) \n",
        "\n",
        "If we only want the values and not this extra information, we can specify this by using the **`.values`** attribute. We can do this in a single step by chaining the dot notations one after the other:"
      ]
    },
    {
      "cell_type": "code",
      "metadata": {
        "id": "2RvBH_P0K8Sz",
        "colab_type": "code",
        "colab": {}
      },
      "source": [
        ""
      ],
      "execution_count": 0,
      "outputs": []
    },
    {
      "cell_type": "markdown",
      "metadata": {
        "id": "B9xT1Ou5K9aL",
        "colab_type": "text"
      },
      "source": [
        "This is an easy way to speed things up without having to save intermediate steps that we don't really need.\n",
        "\n",
        "We can grab a column of data in a similar fashion:"
      ]
    },
    {
      "cell_type": "code",
      "metadata": {
        "id": "zEQEQX7YttwA",
        "colab_type": "code",
        "colab": {}
      },
      "source": [
        ""
      ],
      "execution_count": 0,
      "outputs": []
    },
    {
      "cell_type": "markdown",
      "metadata": {
        "id": "HsuDVbY4txCm",
        "colab_type": "text"
      },
      "source": [
        "This gave us the grades each student received for the Chemistry test. If we wanted to be more specific and say we’re only interested in finding out Riley's grade in Chemistry, we can do that:"
      ]
    },
    {
      "cell_type": "code",
      "metadata": {
        "id": "P_hlTIQut0Xr",
        "colab_type": "code",
        "colab": {}
      },
      "source": [
        ""
      ],
      "execution_count": 0,
      "outputs": []
    },
    {
      "cell_type": "markdown",
      "metadata": {
        "id": "oqXxQh7eMWYi",
        "colab_type": "text"
      },
      "source": [
        "---\n",
        "## Exercise 10\n",
        "How would you isolate the grades for Emily and Lin for Biology and Physics?\n",
        "\n",
        "*Hint: we want to pass in a list for the rows we want and a list for the columns we want.*\n"
      ]
    },
    {
      "cell_type": "code",
      "metadata": {
        "id": "1xFQOiKZNVI4",
        "colab_type": "code",
        "colab": {}
      },
      "source": [
        "# grades for two students from two subjects"
      ],
      "execution_count": 0,
      "outputs": []
    },
    {
      "cell_type": "markdown",
      "metadata": {
        "id": "B9Ej1hyp4KIs",
        "colab_type": "text"
      },
      "source": [
        "---"
      ]
    },
    {
      "cell_type": "markdown",
      "metadata": {
        "id": "ArJv73HOt29t",
        "colab_type": "text"
      },
      "source": [
        "What if we had data where we didn't have row or column labels, or if we knew we wanted to look at the fifth row and third column? We can use a similar pandas dataframe attribute called **`iloc[]`** that uses the numbered indexes we saw earlier. Even if the indexes are labeled (no longer numbers like we have now), they still have numbered positions that we can refer to. First, lets double check the row and column numbers of where Riley’s Chemistry grade is stored:\n"
      ]
    },
    {
      "cell_type": "code",
      "metadata": {
        "id": "PwAUJBPFt6O-",
        "colab_type": "code",
        "colab": {}
      },
      "source": [
        ""
      ],
      "execution_count": 0,
      "outputs": []
    },
    {
      "cell_type": "markdown",
      "metadata": {
        "id": "DxBgyKZqt89b",
        "colab_type": "text"
      },
      "source": [
        "Riley is in the 6th row, and the Chemistry grades are in 2nd column. But remember that **python indexing starts at 0**! We acutally want to specify row 5 and column 1:"
      ]
    },
    {
      "cell_type": "code",
      "metadata": {
        "id": "2Jqyc1zeuAB5",
        "colab_type": "code",
        "colab": {}
      },
      "source": [
        ""
      ],
      "execution_count": 0,
      "outputs": []
    },
    {
      "cell_type": "markdown",
      "metadata": {
        "id": "MReQWips2Yug",
        "colab_type": "text"
      },
      "source": [
        "Let’s add some new information to our dataset! Imagine the students just took a Geology test and we want to include their grades in our dataframe. We can create a new column by giving it a name in square brackets, and then assign values to the column with **`=`**:"
      ]
    },
    {
      "cell_type": "code",
      "metadata": {
        "id": "RLIYm-N03QR5",
        "colab_type": "code",
        "colab": {}
      },
      "source": [
        "geology = [88, 83, 86, 88, 82, 89, 92]"
      ],
      "execution_count": 0,
      "outputs": []
    },
    {
      "cell_type": "markdown",
      "metadata": {
        "id": "ETu98JbP1I4s",
        "colab_type": "text"
      },
      "source": [
        "We can create new columns in our dataframe using values from existing columns. Let's add a column for the average grade for each student. Our values will come from the **`.mean()`** attribute function for our dataframe. This function uses an argument **`axis`** to define whether the mean should be calculated on rows or columns. Since we are creating a new column, we specify **`axis==\"columns\"`**. This will calculate the average grade for each row: think of it like we are collapsing the grades for the five test columns to a single column:"
      ]
    },
    {
      "cell_type": "code",
      "metadata": {
        "id": "QtthsRDhucbz",
        "colab_type": "code",
        "colab": {}
      },
      "source": [
        ""
      ],
      "execution_count": 0,
      "outputs": []
    },
    {
      "cell_type": "markdown",
      "metadata": {
        "id": "ZVwmAF6y18YB",
        "colab_type": "text"
      },
      "source": [
        "We can also calculate the average for each individual test and add those values to a new row. This time we use **`.mean()`** with **`axis=\"index\"`**, which refers to the rows. We are calculating the average grade for each column, so we are collapsing the grades from the seven rows into a single row. We can add this to our dataframe by using the **`.append()`** function. We also need to name the new row, since our rows are already labeled, so we will do that with the **`.rename()`** function:"
      ]
    },
    {
      "cell_type": "code",
      "metadata": {
        "id": "LF8tDtHK2Xro",
        "colab_type": "code",
        "colab": {}
      },
      "source": [
        ""
      ],
      "execution_count": 0,
      "outputs": []
    },
    {
      "cell_type": "markdown",
      "metadata": {
        "id": "sA7q3qsOewM9",
        "colab_type": "text"
      },
      "source": [
        "We can also create new columns by defining our own mathematic operations on existing columns. Let's see how close every student's biology grade was compared to their average. Since the difference will be their biology grade minus their average, we can do this math on the \"Biology\" and \"StudentAverage\" columns:"
      ]
    },
    {
      "cell_type": "code",
      "metadata": {
        "id": "BPxGbNlefGRX",
        "colab_type": "code",
        "colab": {}
      },
      "source": [
        ""
      ],
      "execution_count": 0,
      "outputs": []
    },
    {
      "cell_type": "markdown",
      "metadata": {
        "id": "QD85zl7hByYZ",
        "colab_type": "text"
      },
      "source": [
        "If we no longer need a column, we can remove it with the **`.drop()`** function. To do this we need to input a list of column names that we want to remove and specify the axis on which we want to remove (in our case, columns):"
      ]
    },
    {
      "cell_type": "code",
      "metadata": {
        "id": "zu97ZR_hH3Fn",
        "colab_type": "code",
        "colab": {}
      },
      "source": [
        ""
      ],
      "execution_count": 0,
      "outputs": []
    },
    {
      "cell_type": "markdown",
      "metadata": {
        "id": "420C808QJuuR",
        "colab_type": "text"
      },
      "source": [
        "We're not limited to adding only numeric data to our table. Let's add a column with boolean values that describe whether each student completed an optional project or not. We will store this information in a list and then add it to our new column:"
      ]
    },
    {
      "cell_type": "code",
      "metadata": {
        "id": "fcu3CVf1KJAS",
        "colab_type": "code",
        "colab": {}
      },
      "source": [
        "project = [True, True, True, False, False, False, True, True]"
      ],
      "execution_count": 0,
      "outputs": []
    },
    {
      "cell_type": "markdown",
      "metadata": {
        "id": "GuKxjptNtCFP",
        "colab_type": "text"
      },
      "source": [
        "---"
      ]
    }
  ]
}