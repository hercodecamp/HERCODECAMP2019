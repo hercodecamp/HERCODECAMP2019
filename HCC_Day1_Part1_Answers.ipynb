{
  "nbformat": 4,
  "nbformat_minor": 0,
  "metadata": {
    "colab": {
      "name": "HCC_Day1_Part1_Answers.ipynb",
      "version": "0.3.2",
      "provenance": [],
      "collapsed_sections": []
    },
    "kernelspec": {
      "name": "python3",
      "display_name": "Python 3"
    }
  },
  "cells": [
    {
      "cell_type": "markdown",
      "metadata": {
        "id": "i7MTz2Sdos0U",
        "colab_type": "text"
      },
      "source": [
        "# HER CODE CAMP Intro to Python - Day 1 - Morning Session\n",
        "Welcome to the Intro to Python coding workshop! We are going to learn all kinds of coding fundamentals, and along the way, we will learn code to put together a game of rock-paper-scissors! Code along with us in this notebook. When you're ready to run what's in your code block, hit **`ctrl+enter`**!\n",
        "\n"
      ]
    },
    {
      "cell_type": "markdown",
      "metadata": {
        "id": "q08_CZuxpJbO",
        "colab_type": "text"
      },
      "source": [
        "## Section 1: SYNTAX"
      ]
    },
    {
      "cell_type": "markdown",
      "metadata": {
        "id": "74Xj9_SipMtt",
        "colab_type": "text"
      },
      "source": [
        "Many programmers start coding with a basic **\"Hello World!\"** program. The goal of this program is to print the message \"Hello World!\" on the screen. Let's run your first program in Python!\n",
        "\n",
        "\n"
      ]
    },
    {
      "cell_type": "code",
      "metadata": {
        "id": "-D4z3emWoyWR",
        "colab_type": "code",
        "colab": {}
      },
      "source": [
        "# run \"Hello World\" program\n",
        "print(\"Hello World!\")"
      ],
      "execution_count": 0,
      "outputs": []
    },
    {
      "cell_type": "markdown",
      "metadata": {
        "id": "CD7soYJLskgO",
        "colab_type": "text"
      },
      "source": [
        "Now let's break apart the code that we just ran:\n",
        "\n",
        "- **`# run \"Hello World\" program `**\n",
        "\n",
        "is a comment and will not be considered as code by Python. Every line that starts with **`#`** is a comment. You can use comments for whatever you want, such as explaining what certain lines of code do. This is especially useful for when other people read your code!\n",
        "\n",
        "- **`print()`**\n",
        "\n",
        "is a function. Functions perform specific tasks. The **`print()`** function takes in an input message and tells the computer to print that message to the screen.\n",
        "\n",
        "The input message we passed into our function was **`\"Hello World!\"`**. Notice that we put quotation marks (**`\" \"`**)  around the message. Any series of characters with quotation marks around it is called a **string**. Try changing the string that we pass into the print function!\n",
        "\n"
      ]
    },
    {
      "cell_type": "code",
      "metadata": {
        "id": "B35SeQJ3pUis",
        "colab_type": "code",
        "colab": {}
      },
      "source": [
        "print(\"Hello HER CODE seCAMP!\")"
      ],
      "execution_count": 0,
      "outputs": []
    },
    {
      "cell_type": "markdown",
      "metadata": {
        "id": "snTBSVg_2srW",
        "colab_type": "text"
      },
      "source": [
        "We can also put single quotes (**`' '`**) around strings instead of double quotes (**`\" \"`**), they are equivalent!\n"
      ]
    },
    {
      "cell_type": "code",
      "metadata": {
        "id": "RQbNcnOR2yG-",
        "colab_type": "code",
        "colab": {}
      },
      "source": [
        "print('Hello HER CODE CAMP!')"
      ],
      "execution_count": 0,
      "outputs": []
    },
    {
      "cell_type": "markdown",
      "metadata": {
        "id": "A0aJh2N459FH",
        "colab_type": "text"
      },
      "source": [
        "The only import thing to remember is that if we use one type of quotation mark, we can't use it anywhere else in the string since the computer won't know how to interpret it! \n",
        "\n",
        "We can run into problems if our strings have apostrophes in them..."
      ]
    },
    {
      "cell_type": "code",
      "metadata": {
        "id": "j7VsqoR16TvB",
        "colab_type": "code",
        "colab": {}
      },
      "source": [
        "print('It's an awesome day today!')"
      ],
      "execution_count": 0,
      "outputs": []
    },
    {
      "cell_type": "markdown",
      "metadata": {
        "id": "I38EbkvN6ZMK",
        "colab_type": "text"
      },
      "source": [
        "...that's why it's generally safer to use double quotes around strings :)"
      ]
    },
    {
      "cell_type": "code",
      "metadata": {
        "id": "20hnuxCI6c8A",
        "colab_type": "code",
        "colab": {}
      },
      "source": [
        "print(\"It's an awesome day today!\")"
      ],
      "execution_count": 0,
      "outputs": []
    },
    {
      "cell_type": "markdown",
      "metadata": {
        "id": "c3P2PNp-22kl",
        "colab_type": "text"
      },
      "source": [
        "## Section 2: VARIABLES"
      ]
    },
    {
      "cell_type": "code",
      "metadata": {
        "id": "Mg0evUULHD9J",
        "colab_type": "code",
        "colab": {}
      },
      "source": [
        ""
      ],
      "execution_count": 0,
      "outputs": []
    },
    {
      "cell_type": "markdown",
      "metadata": {
        "id": "75bbZwNbwwjl",
        "colab_type": "text"
      },
      "source": [
        "If we want to print a string multiple times, it would get tiring typing it out each time. One thing we could do is assign the string to a **variable**. You can think of a variable as bucket that stores information. "
      ]
    },
    {
      "cell_type": "code",
      "metadata": {
        "id": "H0D8aMfxxjXg",
        "colab_type": "code",
        "colab": {}
      },
      "source": [
        "message = \"Hello HER CODE CAMP\""
      ],
      "execution_count": 0,
      "outputs": []
    },
    {
      "cell_type": "markdown",
      "metadata": {
        "id": "xjH_RfCbx1yV",
        "colab_type": "text"
      },
      "source": [
        "Let's break it down:\n",
        "\n",
        "- **`message`** \n",
        "\n",
        "is the name we are giving to the variable. Notice that we don't use quotation marks! \n",
        "\n",
        "- **`=`**\n",
        "\n",
        "is the **assignment operator**. We use this to set a variable to some value. It works by assigning the value on the right-hand side of the **`=`** to the left-hand side. This is not the same as the **=** you see in math class!\n",
        "\n",
        "- **`\"Hello HER CODE CAMP\"`** \n",
        "\n",
        "is the value we are assigning to the variable. Now, instead of typing out each time, we can use the variable we created! Give it a try:"
      ]
    },
    {
      "cell_type": "code",
      "metadata": {
        "id": "T8WAkK3-yjsT",
        "colab_type": "code",
        "colab": {}
      },
      "source": [
        "print(message)"
      ],
      "execution_count": 0,
      "outputs": []
    },
    {
      "cell_type": "markdown",
      "metadata": {
        "id": "07tSYIGp7KeQ",
        "colab_type": "text"
      },
      "source": [
        "You can pretty much name a variable whatever you want, as long as it follows some rules:\n",
        "\n",
        "1. It can only consist of alphabetic characters (so A-Z, a-z), digits (0-9) and the **\"\\_\"** character ...that means no spaces!\n",
        "2. It can't _only_ contain digits\n",
        "3. The first character *cannot* be a digit\n",
        "4. It should *not* be the name of an existing function, because this might cause issues if you want to use that function later in your code. For example, **`print()`** is already a function, so don't make a variable called **`print`**! If you're new to python and are not sure if your variable name is already a function, see if it turns blue when you type it. If it does, that means it *is* a function, so choose another variable name!\n",
        "\n",
        "Remember, variables don't contain quotation marks!\n",
        "Here are some examples:"
      ]
    },
    {
      "cell_type": "code",
      "metadata": {
        "id": "iQUUqDuk8dOm",
        "colab_type": "code",
        "colab": {}
      },
      "source": [
        "r = \"rock\"\n",
        "mon2fri = \"MondayTuesdayWednesdayThursdayFriday\""
      ],
      "execution_count": 0,
      "outputs": []
    },
    {
      "cell_type": "markdown",
      "metadata": {
        "id": "ubGf50gEzL-c",
        "colab_type": "text"
      },
      "source": [
        "If we want to change the value of our variable, we can rewrite the assignment statement:"
      ]
    },
    {
      "cell_type": "code",
      "metadata": {
        "id": "5Od3g2EC1M69",
        "colab_type": "code",
        "colab": {}
      },
      "source": [
        "message = \"Player won the game :)\""
      ],
      "execution_count": 0,
      "outputs": []
    },
    {
      "cell_type": "markdown",
      "metadata": {
        "id": "GlUQzrCP15ft",
        "colab_type": "text"
      },
      "source": [
        "Now, when we call our **`print(message)`** function, it will no longer print `\"Hello HER CODE CAMP\"`. Instead, it will print the new value we assigned to our variable **`message`**:"
      ]
    },
    {
      "cell_type": "code",
      "metadata": {
        "id": "ku6hDqRs2FPK",
        "colab_type": "code",
        "colab": {}
      },
      "source": [
        "print(message)"
      ],
      "execution_count": 0,
      "outputs": []
    },
    {
      "cell_type": "markdown",
      "metadata": {
        "id": "pl9C7E-4Cj1R",
        "colab_type": "text"
      },
      "source": [
        "### Section 2.1: the `input()` function"
      ]
    },
    {
      "cell_type": "markdown",
      "metadata": {
        "id": "ABU6E1uUMtsh",
        "colab_type": "text"
      },
      "source": [
        "**`print()`** isn't the only function we can use in Python. In fact, Python has a large variety of functions that we can use to do a whole bunch of things. We can use another function called **`input()`**. The **`input()`** function opens up a box where *you* can type something. Let's try it!"
      ]
    },
    {
      "cell_type": "code",
      "metadata": {
        "id": "zVklSnShX-QA",
        "colab_type": "code",
        "colab": {}
      },
      "source": [
        "input()"
      ],
      "execution_count": 0,
      "outputs": []
    },
    {
      "cell_type": "markdown",
      "metadata": {
        "id": "o-LLNTjiYCg8",
        "colab_type": "text"
      },
      "source": [
        "We can also write a message that prompts the user to type in something specific. We do this by writing a string inside the **`input()`** function, just like we did with the **`print()`** function. For example, let's say we want the player of a rock, paper, scissors game to input their move. We might type something like:\n",
        "\n"
      ]
    },
    {
      "cell_type": "code",
      "metadata": {
        "id": "jHZ_25bvYcGI",
        "colab_type": "code",
        "colab": {}
      },
      "source": [
        "input(\"Choose your move: (rock, paper, or scissors)\") "
      ],
      "execution_count": 0,
      "outputs": []
    },
    {
      "cell_type": "markdown",
      "metadata": {
        "id": "35qzA-dwYhl7",
        "colab_type": "text"
      },
      "source": [
        "There's one problem...one we've run that code, we can't access the word **`rock`** anymore. Whatever the user typed in was lost. Instead, we can store what the user wrote in a **variable** and then we can keep the input forever!"
      ]
    },
    {
      "cell_type": "code",
      "metadata": {
        "id": "k71U1W5pYzaR",
        "colab_type": "code",
        "colab": {}
      },
      "source": [
        "player_move = input(\"Choose your move: (rock, paper, or scissors)\")"
      ],
      "execution_count": 0,
      "outputs": []
    },
    {
      "cell_type": "markdown",
      "metadata": {
        "id": "0MG1U-t6ZGT8",
        "colab_type": "text"
      },
      "source": [
        "Now, we have stored what you have written in the variable **`player_move`**. Let's try printing it!\n"
      ]
    },
    {
      "cell_type": "code",
      "metadata": {
        "id": "Lq8mji15ZMkk",
        "colab_type": "code",
        "colab": {}
      },
      "source": [
        "print(player_move)"
      ],
      "execution_count": 0,
      "outputs": []
    },
    {
      "cell_type": "markdown",
      "metadata": {
        "id": "wv6-UjS028iA",
        "colab_type": "text"
      },
      "source": [
        "## Section 3: DATA TYPES"
      ]
    },
    {
      "cell_type": "markdown",
      "metadata": {
        "id": "VSm6yOKw4hzB",
        "colab_type": "text"
      },
      "source": [
        "### Section 3.1: NUMBERS"
      ]
    },
    {
      "cell_type": "markdown",
      "metadata": {
        "id": "yLZtiA3h5oZw",
        "colab_type": "text"
      },
      "source": [
        "In Python we can work with numbers. There are two main types of numerical data in Python:\n",
        "\n",
        "1.  Integers\n",
        "2.  Floats\n",
        "\n",
        "\n"
      ]
    },
    {
      "cell_type": "markdown",
      "metadata": {
        "id": "v0ptN_Kl2_aX",
        "colab_type": "text"
      },
      "source": [
        "**Section 3.1.a: Integers**\n",
        "\n",
        "**Integers** mean the same thing as they do in math: they are whole numbers (*friendly reminder*: some examples of whole numbers are 8, -9, 0). We can assign integers to variables. Here are some examples:\n",
        "\n",
        "\n"
      ]
    },
    {
      "cell_type": "code",
      "metadata": {
        "id": "hBzJzM0_9Xcz",
        "colab_type": "code",
        "colab": {}
      },
      "source": [
        "score_Marta = 3\n",
        "score_computer = 1"
      ],
      "execution_count": 0,
      "outputs": []
    },
    {
      "cell_type": "markdown",
      "metadata": {
        "id": "mdAXJBoE9adO",
        "colab_type": "text"
      },
      "source": [
        "When we use our **`print()`** function on these variables, the screen will print out the numbers we assigned to them."
      ]
    },
    {
      "cell_type": "code",
      "metadata": {
        "id": "0D4FrWa29jjP",
        "colab_type": "code",
        "colab": {}
      },
      "source": [
        "print(score_Marta)\n",
        "print(score_computer)"
      ],
      "execution_count": 0,
      "outputs": []
    },
    {
      "cell_type": "markdown",
      "metadata": {
        "id": "DXRUujHN9nZu",
        "colab_type": "text"
      },
      "source": [
        "**Section 3.1.b: Floats**\n",
        "\n",
        "A **float** is a number with one or more numbers after the decimal point. Here are some examples of floats:"
      ]
    },
    {
      "cell_type": "code",
      "metadata": {
        "id": "8e64ZzNq-QNf",
        "colab_type": "code",
        "colab": {}
      },
      "source": [
        "pi = 3.14159\n",
        "b = 12.0\n",
        "c = 17890.2"
      ],
      "execution_count": 0,
      "outputs": []
    },
    {
      "cell_type": "markdown",
      "metadata": {
        "id": "iwYecmqlKl_g",
        "colab_type": "text"
      },
      "source": [
        "If we're not sure about what type of number we assigned to a variable (e.g. if **`b=12.0`**, is **`b`** an integer or a float?) we can use the **`type()`** function. Similar to the **`print()`** and **`input()`** functions, we type the function **`type()`** (don't forget round brackets) and pass in an input. Here, I will pass in **`score_Marta`** as an input because I want to see if the score I assigned was an integer or a float!"
      ]
    },
    {
      "cell_type": "code",
      "metadata": {
        "id": "V6XTtoxELRpP",
        "colab_type": "code",
        "colab": {}
      },
      "source": [
        "type(score_Marta)"
      ],
      "execution_count": 0,
      "outputs": []
    },
    {
      "cell_type": "markdown",
      "metadata": {
        "id": "B2F3WsGkLfhr",
        "colab_type": "text"
      },
      "source": [
        "Turns out it was an integer. Let's check another variable!"
      ]
    },
    {
      "cell_type": "code",
      "metadata": {
        "id": "Xr0D7AZaLk15",
        "colab_type": "code",
        "colab": {}
      },
      "source": [
        "type(b)"
      ],
      "execution_count": 0,
      "outputs": []
    },
    {
      "cell_type": "markdown",
      "metadata": {
        "id": "kBj3DbFULtMU",
        "colab_type": "text"
      },
      "source": [
        "The value of **`b`** we wrote was a float, even though it's the number 12. The decimal is important!"
      ]
    },
    {
      "cell_type": "markdown",
      "metadata": {
        "id": "O8DWhxkG-Xqt",
        "colab_type": "text"
      },
      "source": [
        "One of the cool things about coding is that we can do math with integers and floats on the computer. Your calculator is actually a small computer that performs the same operations! \n",
        "\n",
        "Let's go through some math operations that we can do:\n"
      ]
    },
    {
      "cell_type": "code",
      "metadata": {
        "id": "W4f2JBSi-4oD",
        "colab_type": "code",
        "colab": {}
      },
      "source": [
        "# ADDITION\n",
        "print(7 + 3)"
      ],
      "execution_count": 0,
      "outputs": []
    },
    {
      "cell_type": "code",
      "metadata": {
        "id": "sfbKflGEAh3d",
        "colab_type": "code",
        "colab": {}
      },
      "source": [
        "# SUBTRACTION\n",
        "print(9.0 - 8.5)  "
      ],
      "execution_count": 0,
      "outputs": []
    },
    {
      "cell_type": "code",
      "metadata": {
        "id": "tP9vFCiZAwYk",
        "colab_type": "code",
        "colab": {}
      },
      "source": [
        "# MULTIPLICATION \n",
        "print(365.25 * 100)  # (Note that we can combine integers & floats in our operations!)"
      ],
      "execution_count": 0,
      "outputs": []
    },
    {
      "cell_type": "code",
      "metadata": {
        "id": "zDc7mVdSA3YN",
        "colab_type": "code",
        "colab": {}
      },
      "source": [
        "# DIVISION \n",
        "print(10 / 5) \n",
        "\n",
        "x = 3\n",
        "y = 2\n",
        "print(x / y)"
      ],
      "execution_count": 0,
      "outputs": []
    },
    {
      "cell_type": "markdown",
      "metadata": {
        "id": "ywnGW4oZDhkG",
        "colab_type": "text"
      },
      "source": [
        "Notice that when we do division with integers, the resulting answer is a float! "
      ]
    },
    {
      "cell_type": "code",
      "metadata": {
        "id": "YDrYnKk5A5yC",
        "colab_type": "code",
        "colab": {}
      },
      "source": [
        "# EXPONENTIATION\n",
        "print(y**2)   "
      ],
      "execution_count": 0,
      "outputs": []
    },
    {
      "cell_type": "markdown",
      "metadata": {
        "id": "eGIZQqvLBu7J",
        "colab_type": "text"
      },
      "source": [
        "We can also do more complicated operations, like this one:"
      ]
    },
    {
      "cell_type": "code",
      "metadata": {
        "id": "IleaBLZTBgZX",
        "colab_type": "code",
        "colab": {}
      },
      "source": [
        "print((x + y*2)/7)"
      ],
      "execution_count": 0,
      "outputs": []
    },
    {
      "cell_type": "markdown",
      "metadata": {
        "id": "QrJNH2ES0o7a",
        "colab_type": "text"
      },
      "source": [
        "Notice the order of operations that was performed. Instead of going from left to right, we did the operations in the following order:\n",
        "\n",
        "1. **`y*2`**\n",
        "\n",
        "2. **`(x + y*2)`**\n",
        "\n",
        "3. **`(x + y*2)/7`**\n",
        "\n",
        "This is the same as how we perform order of operations in algebra (**BEDMAS**)!\n",
        "\n"
      ]
    },
    {
      "cell_type": "markdown",
      "metadata": {
        "id": "IZrta21z-h5J",
        "colab_type": "text"
      },
      "source": [
        "---\n",
        "## Exercise 1:\n",
        "\n",
        "These are the temperature values for next week from the Weather Network. Compute the mean (average) temperature for next week and print the result:\n",
        "\n",
        "- monday: 23\n",
        "- tuesday: 22\n",
        "- wednesday: 25\n",
        "- thursday: 23\n",
        "- friday: 23\n",
        "\n",
        "*Hint: the average is the sum of all the numbers divided by the number of numbers!*"
      ]
    },
    {
      "cell_type": "code",
      "metadata": {
        "id": "No_4Q3wkcOJg",
        "colab_type": "code",
        "colab": {}
      },
      "source": [
        ""
      ],
      "execution_count": 0,
      "outputs": []
    },
    {
      "cell_type": "markdown",
      "metadata": {
        "id": "4YCRcfqmrIUC",
        "colab_type": "text"
      },
      "source": [
        "---"
      ]
    },
    {
      "cell_type": "markdown",
      "metadata": {
        "id": "6me42_lrBUVf",
        "colab_type": "text"
      },
      "source": [
        "When we are adding a number to a variable multiple times, we can reassign the value of a variable to say that it equals itself plus something new (i.e., **`var = var + new`**). We can also use a shortcut with **`+=`** (i.e., **`var += new`**): these two representations are equivalent!"
      ]
    },
    {
      "cell_type": "code",
      "metadata": {
        "id": "MqOXTCBxB3mh",
        "colab_type": "code",
        "colab": {}
      },
      "source": [
        "count = 0\n",
        "count = count + 1\n",
        "print(count)\n",
        "\n",
        "count += 1\n",
        "print(count)"
      ],
      "execution_count": 0,
      "outputs": []
    },
    {
      "cell_type": "markdown",
      "metadata": {
        "id": "0_MKW_8ICDiG",
        "colab_type": "text"
      },
      "source": [
        "### Section 3.2: BOOLEANS"
      ]
    },
    {
      "cell_type": "markdown",
      "metadata": {
        "id": "NszLmYrR60uQ",
        "colab_type": "text"
      },
      "source": [
        "We can do things with numbers other than math operations. For example, we can find out if one number is larger than the other! Or we test if two variables have the same value. When we compare two values, the output is either **`True`** or **`False`**. These are called **booleans**. Here are some comparision operators:\n",
        "\n",
        "- **`==`** &nbsp;&nbsp;&nbsp;&nbsp;&nbsp;&nbsp;&nbsp;&nbsp;  equal to  \n",
        "- **`!=`** &nbsp;&nbsp;&nbsp;&nbsp;&nbsp;&nbsp;&nbsp;&nbsp;  not equal to\n",
        "- **`>`** &nbsp;&nbsp;&nbsp;&nbsp;&nbsp;&nbsp;&nbsp;&nbsp;&nbsp;&nbsp;  greater than\n",
        "- **`>=`** &nbsp;&nbsp;&nbsp;&nbsp;&nbsp;&nbsp;&nbsp;&nbsp;  greater than or equal to\n",
        "- **`<`** &nbsp;&nbsp;&nbsp;&nbsp;&nbsp;&nbsp;&nbsp;&nbsp;&nbsp;&nbsp;  less than\n",
        "- **`<=`** &nbsp;&nbsp;&nbsp;&nbsp;&nbsp;&nbsp;&nbsp;&nbsp;  less than or equal to\n",
        "\n",
        "Here are some examples. Let's pretend someone is playing a game against the computer and we want to compare scores:"
      ]
    },
    {
      "cell_type": "code",
      "metadata": {
        "id": "mKXVV9-r-N14",
        "colab_type": "code",
        "colab": {}
      },
      "source": [
        "# EQUAL TO\n",
        "computer_score = 1\n",
        "player_score = 1\n",
        "\n",
        "player_score == computer_score"
      ],
      "execution_count": 0,
      "outputs": []
    },
    {
      "cell_type": "markdown",
      "metadata": {
        "id": "7sh4ZQAHF8DA",
        "colab_type": "text"
      },
      "source": [
        "This outputs `True` because **`player_score`** and **`computer_score`** are both 1!"
      ]
    },
    {
      "cell_type": "markdown",
      "metadata": {
        "id": "Ea4z3oOsFlx9",
        "colab_type": "text"
      },
      "source": [
        "We are not limited to seeing if two numbers are equal, we can also see if two strings are equal!"
      ]
    },
    {
      "cell_type": "code",
      "metadata": {
        "id": "Pmv0wdTh_OiM",
        "colab_type": "code",
        "colab": {}
      },
      "source": [
        "player_move = \"scissors\"\n",
        "computer_move = \"Scissors\"\n",
        "\n",
        "player_move == computer_move"
      ],
      "execution_count": 0,
      "outputs": []
    },
    {
      "cell_type": "markdown",
      "metadata": {
        "id": "zvO5LzLjGHDP",
        "colab_type": "text"
      },
      "source": [
        "This outputs **`False`** because \"**scissors**\" and \"**Scissors**\" aren't the same thing. \n",
        "\n",
        "\n",
        "\n"
      ]
    },
    {
      "cell_type": "markdown",
      "metadata": {
        "id": "K9myyR7_IlHp",
        "colab_type": "text"
      },
      "source": [
        "We can also see if two things *aren't* equal. We do this using the **`!=`** operator:"
      ]
    },
    {
      "cell_type": "code",
      "metadata": {
        "id": "JSu7r5hPIp4c",
        "colab_type": "code",
        "colab": {}
      },
      "source": [
        "# NOT EQUAL TO\n",
        "player_move = \"rock\"\n",
        "computer_move =\"scissors\"\n",
        "player_move != computer_move"
      ],
      "execution_count": 0,
      "outputs": []
    },
    {
      "cell_type": "markdown",
      "metadata": {
        "id": "IFGuxJh9IxIT",
        "colab_type": "text"
      },
      "source": [
        "This outputs **`True`** because it's true that \"**rock**\" and \"**scissors**\" aren't the same thing!"
      ]
    },
    {
      "cell_type": "markdown",
      "metadata": {
        "id": "MZVbGz_9GRCI",
        "colab_type": "text"
      },
      "source": [
        "Let's say we play another round and the player wins. What if we want to check if **`player_score`** is now greater than **`computer_score`**?"
      ]
    },
    {
      "cell_type": "code",
      "metadata": {
        "id": "eRyHOugUH92A",
        "colab_type": "code",
        "colab": {}
      },
      "source": [
        "player_score = 2 \n",
        "computer_score = 1\n",
        "\n",
        "player_score > computer_score\n"
      ],
      "execution_count": 0,
      "outputs": []
    },
    {
      "cell_type": "markdown",
      "metadata": {
        "id": "hfBvsrjvI-sr",
        "colab_type": "text"
      },
      "source": [
        "We can also see if one item is **greater than *or* equal to** another item. Let's say the computer wins another round and we want to see if **`player_score`** is greater than or equal to **`computer_score`**:"
      ]
    },
    {
      "cell_type": "code",
      "metadata": {
        "id": "Wz0XG4VvJIXI",
        "colab_type": "code",
        "colab": {}
      },
      "source": [
        "player_score = 2\n",
        "computer_score = 2\n",
        "\n",
        "player_score >= computer_score"
      ],
      "execution_count": 0,
      "outputs": []
    },
    {
      "cell_type": "markdown",
      "metadata": {
        "id": "xhO5h0nbJXlW",
        "colab_type": "text"
      },
      "source": [
        "Nice! We know that **`player_score`** now has to be at least as large as **`computer_score`**, if not greater."
      ]
    },
    {
      "cell_type": "markdown",
      "metadata": {
        "id": "_8IweoxtJm8Z",
        "colab_type": "text"
      },
      "source": [
        "We can also use the less-than operator (**`<`**) to see if **`player_score`** is less than **`computer_score`**:"
      ]
    },
    {
      "cell_type": "code",
      "metadata": {
        "id": "DtlqmGmCJ0A8",
        "colab_type": "code",
        "colab": {}
      },
      "source": [
        "player_score < computer_score"
      ],
      "execution_count": 0,
      "outputs": []
    },
    {
      "cell_type": "markdown",
      "metadata": {
        "id": "SG8expgwJ3Lu",
        "colab_type": "text"
      },
      "source": [
        "This output makes sense, since we already checked that **`player_score`** is at least as larger as **`computer_score`** so there's no way it can be less than it! Let's see if **`computer_score`** is less than *or* equal to **`player_score`**:"
      ]
    },
    {
      "cell_type": "code",
      "metadata": {
        "id": "4YVPbDqvKJIW",
        "colab_type": "code",
        "colab": {}
      },
      "source": [
        "computer_score <= player_score"
      ],
      "execution_count": 0,
      "outputs": []
    },
    {
      "cell_type": "markdown",
      "metadata": {
        "id": "uFQEylxeKHxo",
        "colab_type": "text"
      },
      "source": [
        "In this case both **`computer_score`** and **`player_score`** are 2. The output **`True`** makes sense because **`computer_score`** is at most equal to **`player_score`**."
      ]
    },
    {
      "cell_type": "markdown",
      "metadata": {
        "id": "RqAPibNX_WW7",
        "colab_type": "text"
      },
      "source": [
        "---\n",
        "\n",
        "## Exercise 2:\n",
        "\n",
        "My goal every week is to run 10 km. If I pass my goal by Friday, I can buy myself an ice-cream on Saturday! Did I achieve my goal this week? Use a **boolean comparison**!\n",
        "\n",
        "- Monday: 2.987 km\n",
        "- Tuesday: 1.123 km\n",
        "- Wednesday: 5.385 km\n",
        "- Thursday: 1.345 km\n",
        "- Friday: 0.896 km"
      ]
    },
    {
      "cell_type": "code",
      "metadata": {
        "id": "0TaOZx0DoorS",
        "colab_type": "code",
        "colab": {}
      },
      "source": [
        ""
      ],
      "execution_count": 0,
      "outputs": []
    },
    {
      "cell_type": "markdown",
      "metadata": {
        "id": "B6Ijatp4CkR_",
        "colab_type": "text"
      },
      "source": [
        "---"
      ]
    },
    {
      "cell_type": "markdown",
      "metadata": {
        "id": "TbCT83DO3bLV",
        "colab_type": "text"
      },
      "source": [
        "\n",
        "\n",
        "### Section 3.2: STRINGS"
      ]
    },
    {
      "cell_type": "markdown",
      "metadata": {
        "id": "97WlkxKm4DXA",
        "colab_type": "text"
      },
      "source": [
        "We have already seen this type of data. This is a sequence of characters wrapped in quotation marks. It can be as long as you want and can contain a combination of letters, numbers, and punctuation: "
      ]
    },
    {
      "cell_type": "code",
      "metadata": {
        "id": "EszJ1fDI4K_L",
        "colab_type": "code",
        "colab": {}
      },
      "source": [
        "sentence = \"I have 3 fluffy cats!\"  \n",
        "print(sentence)"
      ],
      "execution_count": 0,
      "outputs": []
    },
    {
      "cell_type": "markdown",
      "metadata": {
        "id": "WeFlIiWtxNRP",
        "colab_type": "text"
      },
      "source": [
        "You can combine strings by using the '**+**' operator. We call this **concatenation**:"
      ]
    },
    {
      "cell_type": "code",
      "metadata": {
        "id": "i1AELzx8xRd8",
        "colab_type": "code",
        "colab": {}
      },
      "source": [
        "sentence = \"Ready \" + \"set \" + \"go\" \n",
        "print(sentence)"
      ],
      "execution_count": 0,
      "outputs": []
    },
    {
      "cell_type": "markdown",
      "metadata": {
        "id": "pb-Y0_mwds_X",
        "colab_type": "text"
      },
      "source": [
        "Note that when we combine strings we have to be very explicit in telling the computer what to print. We have to remember to include spaces at least somewhere in our text; otherwise we would get \"*Readysetgo*\" as a single word:"
      ]
    },
    {
      "cell_type": "code",
      "metadata": {
        "id": "69P81cTqeGu4",
        "colab_type": "code",
        "colab": {}
      },
      "source": [
        "bad_sentence = \"Ready\" + \"set\" + \"go\" \n",
        "print(bad_sentence)"
      ],
      "execution_count": 0,
      "outputs": []
    },
    {
      "cell_type": "markdown",
      "metadata": {
        "id": "YH_TPVk2LCIC",
        "colab_type": "text"
      },
      "source": [
        "We can't combine integers with strings directly, since they are two different data types. This will throw an error:"
      ]
    },
    {
      "cell_type": "code",
      "metadata": {
        "id": "S2MXzZo9TO-h",
        "colab_type": "code",
        "colab": {}
      },
      "source": [
        "month = \"September\"\n",
        "day = 14\n",
        "print(\"Today is \" + month + \" \" + day)"
      ],
      "execution_count": 0,
      "outputs": []
    },
    {
      "cell_type": "markdown",
      "metadata": {
        "id": "TEka_oCiTXMH",
        "colab_type": "text"
      },
      "source": [
        "But we *can* concatenate strings to integers if we convert the integer to a string first. The function **`str()`** converts given data types into strings:"
      ]
    },
    {
      "cell_type": "code",
      "metadata": {
        "id": "L2L2XDA7LmKR",
        "colab_type": "code",
        "colab": {}
      },
      "source": [
        "month = \"September\"\n",
        "day = 14\n",
        "print(\"Today is \" + month + \" \" + str(day))"
      ],
      "execution_count": 0,
      "outputs": []
    },
    {
      "cell_type": "markdown",
      "metadata": {
        "id": "Vwf1rh_EeXo-",
        "colab_type": "text"
      },
      "source": [
        "---\n",
        "## Exercise 3:\n",
        "Given the following scores of a rock-paper-scissors game, print them out in a string like this:\n",
        "\n",
        "**`Player 1 = 2, Player 2 = 1`**\n",
        "\n",
        "*Hint: convert the integer variables to strings*"
      ]
    },
    {
      "cell_type": "code",
      "metadata": {
        "id": "yCkZwsjPe4Nt",
        "colab_type": "code",
        "colab": {}
      },
      "source": [
        "# scores\n",
        "P1_score = 2\n",
        "P2_score = 1\n",
        "\n",
        "result = \"Player 1 = \" + str(P1_score)\n",
        "result += \", Player 2 = \" + str(P2_score)\n",
        "\n",
        "print(result)"
      ],
      "execution_count": 0,
      "outputs": []
    },
    {
      "cell_type": "markdown",
      "metadata": {
        "id": "WB3zUHEorkuk",
        "colab_type": "text"
      },
      "source": [
        "---"
      ]
    },
    {
      "cell_type": "markdown",
      "metadata": {
        "id": "IA53vBS8r_YJ",
        "colab_type": "text"
      },
      "source": [
        "We can sort of think of a string as a list of individual characters. We can perform some neat operations on that string like picking out specific characters. This is called **indexing**:"
      ]
    },
    {
      "cell_type": "code",
      "metadata": {
        "id": "iMJAJWAR5EdR",
        "colab_type": "code",
        "colab": {}
      },
      "source": [
        "letters = \"ABC\" \n",
        "letters[0]"
      ],
      "execution_count": 0,
      "outputs": []
    },
    {
      "cell_type": "markdown",
      "metadata": {
        "id": "6U9AyUWFtPmK",
        "colab_type": "text"
      },
      "source": [
        "You probably noticed that we didn't use the number 1 to get the first character of the string. This is actually super common in programming languages where we might say that we have a string of length 10, but the first character is at **index 0** and the last character is at **index 9**. In general, we say that **the character at position N can be indexed using N-1**. You can think of it as saying how far away the character is from the very first character: the first character is 0 spots away from the first character, so it gets an index of 0."
      ]
    },
    {
      "cell_type": "markdown",
      "metadata": {
        "id": "tVMrmZ1WVhAa",
        "colab_type": "text"
      },
      "source": [
        "We can use **negative indices** too. They count *backwards* from the end of the string (but start at 1 instead of 0):"
      ]
    },
    {
      "cell_type": "code",
      "metadata": {
        "id": "OZqLy_B-Vkqd",
        "colab_type": "code",
        "colab": {}
      },
      "source": [
        "letters = \"ABC\"\n",
        "letters[-1]"
      ],
      "execution_count": 0,
      "outputs": []
    },
    {
      "cell_type": "markdown",
      "metadata": {
        "id": "MuSFWc-YuOF4",
        "colab_type": "text"
      },
      "source": [
        "We can find out the length of a string using the **`len()`** function. We can use indices and the length to access the last part of a string. When we grab subsections of a string instead of a single character, we call it **slicing**. We need to specify two indices separated with a colon (**:**), where the first number is the start of the section we want to slice and the second number is the end of what we want to slice. The first number is included in our slice, but the last number is _not_; the index goes **up to but not including** the final number: "
      ]
    },
    {
      "cell_type": "code",
      "metadata": {
        "id": "wNBbgCz46GJm",
        "colab_type": "code",
        "colab": {}
      },
      "source": [
        "sentence = \"We are learning python!\"\n",
        "length = len(sentence)\n",
        "print(length)\n",
        "\n",
        "print(sentence[7:length])"
      ],
      "execution_count": 0,
      "outputs": []
    },
    {
      "cell_type": "markdown",
      "metadata": {
        "id": "AnQqUCSmutMp",
        "colab_type": "text"
      },
      "source": [
        "If you want to remove characters from the end of the string, you can use a negative final index. Let's remove the exclamation point from our slice:"
      ]
    },
    {
      "cell_type": "code",
      "metadata": {
        "id": "Xi-39-QDulWk",
        "colab_type": "code",
        "colab": {}
      },
      "source": [
        "sentence[7:-1]"
      ],
      "execution_count": 0,
      "outputs": []
    },
    {
      "cell_type": "markdown",
      "metadata": {
        "id": "NyM2lN1Ovbpg",
        "colab_type": "text"
      },
      "source": [
        "You actually don't need to define the indices if you want the whole string, you can use the colon directly. Python assumes that if you omit the initial index that you want a substring starting right from the beginning and that if you omit the final index you want a substring ending at the very end of the string: "
      ]
    },
    {
      "cell_type": "code",
      "metadata": {
        "id": "9LAgWZ4qvxaX",
        "colab_type": "code",
        "colab": {}
      },
      "source": [
        "letters = \"ABCDEFG\"\n",
        "print(letters[:4])\n",
        "print(letters[4:])\n",
        "print(letters[-3:])\n",
        "print(letters[:])"
      ],
      "execution_count": 0,
      "outputs": []
    },
    {
      "cell_type": "markdown",
      "metadata": {
        "id": "rpM-YEk8265h",
        "colab_type": "text"
      },
      "source": [
        "You can check whether a string contains a substring by using the keyword \"**`in`**\". We can check whether the string *does not* contain a substring using \"**`not in`**\". Keywords aren't used in the same way as functions (they don't have brackets), but they are special words predefined in python to work a specific way:"
      ]
    },
    {
      "cell_type": "code",
      "metadata": {
        "id": "2dFaEri823eA",
        "colab_type": "code",
        "colab": {}
      },
      "source": [
        "numbers = \"0123456789\"\n",
        "print('0' in numbers)\n",
        "print('5' not in numbers)"
      ],
      "execution_count": 0,
      "outputs": []
    },
    {
      "cell_type": "markdown",
      "metadata": {
        "id": "hWfPodYz2DMq",
        "colab_type": "text"
      },
      "source": [
        "Now that we've mastered strings, let's try splitting up the string into parts using the function **`split()`**. The result of splitting a sentance on spaces is a **list** of every word in the string:"
      ]
    },
    {
      "cell_type": "code",
      "metadata": {
        "id": "z0iTkTs5v_e_",
        "colab_type": "code",
        "colab": {}
      },
      "source": [
        "sentence = \"We are learning python!\"\n",
        "print(sentence.split())"
      ],
      "execution_count": 0,
      "outputs": []
    },
    {
      "cell_type": "markdown",
      "metadata": {
        "id": "kzUR-Mbjv2LR",
        "colab_type": "text"
      },
      "source": [
        "### Section 3.2: LISTS"
      ]
    },
    {
      "cell_type": "markdown",
      "metadata": {
        "id": "fLdcrxroN_Ug",
        "colab_type": "text"
      },
      "source": [
        "Now that we've created a list from a string, let's talk about exactly what a list is in python. A **list** is a sequence of items much like how a string was a sequence of characters, but with lists you have much more flexibility. Let's try making some lists:"
      ]
    },
    {
      "cell_type": "code",
      "metadata": {
        "id": "ZiQb5BH2OLCP",
        "colab_type": "code",
        "colab": {}
      },
      "source": [
        "empty_list = []\n",
        "empty_list = list()\n",
        "\n",
        "word_list = [\"A\", \"B\", \"C\", \"D\", \"E\"]\n",
        "number_list = [1, 2, 3, 4, 5]\n",
        "boolean_list = [True, True, False]\n",
        "mixed_list = [\"1\", 2, True]"
      ],
      "execution_count": 0,
      "outputs": []
    },
    {
      "cell_type": "markdown",
      "metadata": {
        "id": "ekuqDdydbrL9",
        "colab_type": "text"
      },
      "source": [
        "We can also create lists from variables."
      ]
    },
    {
      "cell_type": "code",
      "metadata": {
        "id": "9rTk_7xybuCh",
        "colab_type": "code",
        "colab": {}
      },
      "source": [
        "x = \"Hello\"\n",
        "y = \"World!\"\n",
        "\n",
        "hello_world = [x, y]\n",
        "print(hello_world)"
      ],
      "execution_count": 0,
      "outputs": []
    },
    {
      "cell_type": "markdown",
      "metadata": {
        "id": "_cJ55bfMbcMs",
        "colab_type": "text"
      },
      "source": [
        "---\n",
        "## Exercise 4:\n",
        "Given variables for each possible move in rock-paper-scissors, create a list of the possible moves."
      ]
    },
    {
      "cell_type": "code",
      "metadata": {
        "id": "of3vdy28cHQw",
        "colab_type": "code",
        "colab": {}
      },
      "source": [
        "rock = 'rock'\n",
        "paper = 'paper'\n",
        "scissors = 'scissors'"
      ],
      "execution_count": 0,
      "outputs": []
    },
    {
      "cell_type": "markdown",
      "metadata": {
        "id": "qgWnal8Ubkxw",
        "colab_type": "text"
      },
      "source": [
        "*Solution*"
      ]
    },
    {
      "cell_type": "code",
      "metadata": {
        "id": "WRg8FuVcbhZ6",
        "colab_type": "code",
        "colab": {}
      },
      "source": [
        "possible_moves = [rock, paper, scissors]\n",
        "print(possible_moves)"
      ],
      "execution_count": 0,
      "outputs": []
    },
    {
      "cell_type": "markdown",
      "metadata": {
        "id": "JyRuUT0AKT3J",
        "colab_type": "text"
      },
      "source": [
        "---"
      ]
    },
    {
      "cell_type": "markdown",
      "metadata": {
        "id": "qizdIf3FPdPJ",
        "colab_type": "text"
      },
      "source": [
        "Much like with strings we can get the length of the list using **`len()`**. Recall that for strings the **`len()`** function returns the number of *characters* in the string. For lists, the **`len()`** function returns the number of *items* in the list:"
      ]
    },
    {
      "cell_type": "code",
      "metadata": {
        "id": "bcdYrn41Pj1L",
        "colab_type": "code",
        "colab": {}
      },
      "source": [
        "my_list = [10, 11, 12]\n",
        "print(my_list)\n",
        "print(len(my_list))"
      ],
      "execution_count": 0,
      "outputs": []
    },
    {
      "cell_type": "markdown",
      "metadata": {
        "id": "rANT2CQMg_CT",
        "colab_type": "text"
      },
      "source": [
        "Remember how we made some empty lists earlier? Those aren't very useful, but we can add elements to lists that have already been created using the **`append()`** function:"
      ]
    },
    {
      "cell_type": "code",
      "metadata": {
        "id": "VMcAHXM2hGrD",
        "colab_type": "code",
        "colab": {}
      },
      "source": [
        "my_list = []\n",
        "print(my_list)\n",
        "my_list.append(\"item\")\n",
        "print(my_list)"
      ],
      "execution_count": 0,
      "outputs": []
    },
    {
      "cell_type": "markdown",
      "metadata": {
        "id": "GLCEivWhsbNH",
        "colab_type": "text"
      },
      "source": [
        "You can also append lists to lists using the same syntax that we did for strings (using **`+`**):"
      ]
    },
    {
      "cell_type": "code",
      "metadata": {
        "id": "plcL22u0s5o7",
        "colab_type": "code",
        "colab": {}
      },
      "source": [
        "my_list = [1,2,3,4,5]\n",
        "my_list += [6] # add a single element\n",
        "my_list += [7,8] # add multiple elements\n",
        "print(my_list)"
      ],
      "execution_count": 0,
      "outputs": []
    },
    {
      "cell_type": "markdown",
      "metadata": {
        "id": "hLtgFSWtchUm",
        "colab_type": "text"
      },
      "source": [
        "Note that to add a single element to a list you have to put it into square brackets (i.e., make it a list with one element). If we try to just add a single element that is not a list we get an error:"
      ]
    },
    {
      "cell_type": "code",
      "metadata": {
        "id": "ZPr1vwUksZxJ",
        "colab_type": "code",
        "colab": {}
      },
      "source": [
        "my_list = [1,2,3,4,5]\n",
        "my_list += 6"
      ],
      "execution_count": 0,
      "outputs": []
    },
    {
      "cell_type": "markdown",
      "metadata": {
        "id": "tWJLIk0sQ9Yx",
        "colab_type": "text"
      },
      "source": [
        "We can do the exact same indexing and slicing operations we performed on strings with lists!"
      ]
    },
    {
      "cell_type": "code",
      "metadata": {
        "id": "tfwKgCygRBIb",
        "colab_type": "code",
        "colab": {}
      },
      "source": [
        "numbers = [1, 2, 3, 4, 5]\n",
        "\n",
        "last_number = numbers[-1] \n",
        "print(last_number)\n",
        "\n",
        "two_to_four = numbers[1:4]\n",
        "print(two_to_four)"
      ],
      "execution_count": 0,
      "outputs": []
    },
    {
      "cell_type": "markdown",
      "metadata": {
        "id": "m6uRK_m5mRbL",
        "colab_type": "text"
      },
      "source": [
        "You can modify elements in a list, but only if you re-assign them using the assignment operator (i.e., **`=`**):"
      ]
    },
    {
      "cell_type": "code",
      "metadata": {
        "id": "ZG84eSXumX4v",
        "colab_type": "code",
        "colab": {}
      },
      "source": [
        "numbers = [1, 2, 3, 4, 5]\n",
        "\n",
        "first_number = numbers[0]\n",
        "first_number += 1 # this doesn't modify the list because the variable is a copy\n",
        "print(numbers) \n",
        "\n",
        "numbers[0] += 1 # this does modify the list\n",
        "print(numbers)"
      ],
      "execution_count": 0,
      "outputs": []
    },
    {
      "cell_type": "markdown",
      "metadata": {
        "id": "YKhmJcPJlfPj",
        "colab_type": "text"
      },
      "source": [
        "---\n",
        "## Exercise 5:\n",
        "You are given a list that keeps track of the current score of a match of rock-paper-scissors. The first element is the score for Player 1 and the second element is the score for Player 2. \n",
        "\n",
        "Player 1 just won the match, so we need to increment the score for Player 1 by indexing the list to get the first element and assigning it to its value plus 1.\n",
        "\n",
        "*Hint: Remember that you can do **`x = x + 1`** or **`x += 1`** to increment something!*"
      ]
    },
    {
      "cell_type": "code",
      "metadata": {
        "id": "-vsyWnLemB8l",
        "colab_type": "code",
        "colab": {}
      },
      "source": [
        "current_score = [0, 1] # player 1 just won the match so the list should become [1, 1]"
      ],
      "execution_count": 0,
      "outputs": []
    },
    {
      "cell_type": "markdown",
      "metadata": {
        "id": "2BIH1rb4mAqX",
        "colab_type": "text"
      },
      "source": [
        "*Solution*"
      ]
    },
    {
      "cell_type": "code",
      "metadata": {
        "id": "y_mYQ3pslVvb",
        "colab_type": "code",
        "colab": {}
      },
      "source": [
        "current_score[0] += 1\n",
        "print(current_score)"
      ],
      "execution_count": 0,
      "outputs": []
    },
    {
      "cell_type": "markdown",
      "metadata": {
        "id": "uPavveXsOTEW",
        "colab_type": "text"
      },
      "source": [
        "---"
      ]
    },
    {
      "cell_type": "markdown",
      "metadata": {
        "id": "PZ0zIALMR2iZ",
        "colab_type": "text"
      },
      "source": [
        "It's often useful to sort lists, in alphabetical or numerical order. We can do that using the **`sort()`** function:"
      ]
    },
    {
      "cell_type": "code",
      "metadata": {
        "id": "OCQz7TRTSGGS",
        "colab_type": "code",
        "colab": {}
      },
      "source": [
        "alphabet = ['F', 'G', 'H', 'I', 'J', 'K', 'A', 'B', 'C', 'D', 'E', 'S', 'T', 'U', 'V', 'W', 'X', 'Y', 'Z', 'L', 'M', 'N', 'O', 'P', 'Q', 'R' ]\n",
        "alphabet.sort() \n",
        "print(alphabet)"
      ],
      "execution_count": 0,
      "outputs": []
    },
    {
      "cell_type": "markdown",
      "metadata": {
        "id": "oIE6WTXGJoTX",
        "colab_type": "text"
      },
      "source": [
        "You can only sort lists where elements are all of the same type. This is because comparison operations only work between the same data types:"
      ]
    },
    {
      "cell_type": "code",
      "metadata": {
        "id": "T8R8krQnJ-6H",
        "colab_type": "code",
        "colab": {}
      },
      "source": [
        "mixed_list = [\"1\", 2, \"3\", 4, \"5\"]\n",
        "mixed_list.sort()"
      ],
      "execution_count": 0,
      "outputs": []
    },
    {
      "cell_type": "markdown",
      "metadata": {
        "id": "hyLHh7IM1FpB",
        "colab_type": "text"
      },
      "source": [
        "You can check if an item appears in a list in the same way we checked if a character or word appeared in a string (with **`in`** and **`not in`**):"
      ]
    },
    {
      "cell_type": "code",
      "metadata": {
        "id": "_OsUKS5T1FbI",
        "colab_type": "code",
        "colab": {}
      },
      "source": [
        "pets = ['cat', 'hamster', 'dog']\n",
        "print('hamster' in pets) \n",
        "print('rat' not in pets) "
      ],
      "execution_count": 0,
      "outputs": []
    },
    {
      "cell_type": "markdown",
      "metadata": {
        "id": "CIr-tZh-dani",
        "colab_type": "text"
      },
      "source": [
        "---\n",
        "## Exercise 6:\n",
        "Use **`in`** to determine if the given move is valid in rock-paper-scissors (i.e., one of rock, paper, or scissors). \n",
        "\n",
        "*Hint: recall that you created a list of the possible moves in exercise 4!*"
      ]
    },
    {
      "cell_type": "code",
      "metadata": {
        "id": "dXMwy0Mndjj2",
        "colab_type": "code",
        "colab": {}
      },
      "source": [
        "move = 'rock'"
      ],
      "execution_count": 0,
      "outputs": []
    },
    {
      "cell_type": "markdown",
      "metadata": {
        "id": "lQXK6npZdr_Q",
        "colab_type": "text"
      },
      "source": [
        "*Solution*"
      ]
    },
    {
      "cell_type": "code",
      "metadata": {
        "id": "barQ62AJdtoE",
        "colab_type": "code",
        "colab": {}
      },
      "source": [
        "print(move in possible_moves)"
      ],
      "execution_count": 0,
      "outputs": []
    },
    {
      "cell_type": "markdown",
      "metadata": {
        "id": "PttmjKpxP40P",
        "colab_type": "text"
      },
      "source": [
        "---"
      ]
    },
    {
      "cell_type": "markdown",
      "metadata": {
        "id": "fSrsxe4mUEis",
        "colab_type": "text"
      },
      "source": [
        "## Section 4: LOGIC"
      ]
    },
    {
      "cell_type": "markdown",
      "metadata": {
        "id": "bQ1dBZDFUJ03",
        "colab_type": "text"
      },
      "source": [
        "**Logic** is a very important part of programming! It allows you to make decisions and repeat tasks. "
      ]
    },
    {
      "cell_type": "markdown",
      "metadata": {
        "id": "t1NwCBuvUmMM",
        "colab_type": "text"
      },
      "source": [
        "### Section 4.1: CONDITIONALS"
      ]
    },
    {
      "cell_type": "markdown",
      "metadata": {
        "id": "4etF8qIsUsMg",
        "colab_type": "text"
      },
      "source": [
        "**Conditional statements** allow you to make decisions based on some data. We use an **`if`** statement combined with a **boolean expression** (we learned about those earlier) to make a decision.\n",
        "\n",
        "The syntax for an **`if`** statement is to write **`if`** followed by some boolean expression followed by a colon (i.e., **`:`**) on one line, then create another line that is indented using 4 spaces. The \"body\" of the **`if`** statement is this indented line; you can have multiple lines in the body as long as you indent them all. This is where you tell the computer what you want to happen if your boolean expression is correct!"
      ]
    },
    {
      "cell_type": "code",
      "metadata": {
        "id": "R_PKr1v6VcqN",
        "colab_type": "code",
        "colab": {}
      },
      "source": [
        "x = 5\n",
        "if x == 5:\n",
        "  print(x)\n",
        "  print(\"x was 5\")"
      ],
      "execution_count": 0,
      "outputs": []
    },
    {
      "cell_type": "markdown",
      "metadata": {
        "id": "BZs0vmxjqkhL",
        "colab_type": "text"
      },
      "source": [
        "Note that **the entire body must be indented**; any unindented parts will be executed even if the condition is not met!"
      ]
    },
    {
      "cell_type": "code",
      "metadata": {
        "id": "-Vuq2lQHqlVV",
        "colab_type": "code",
        "colab": {}
      },
      "source": [
        "x = 10\n",
        "if x == 5:\n",
        "  print(x)\n",
        "print(\"x was 5\")"
      ],
      "execution_count": 0,
      "outputs": []
    },
    {
      "cell_type": "markdown",
      "metadata": {
        "id": "ZdjUwL2MViil",
        "colab_type": "text"
      },
      "source": [
        "This only lets us handle one possibility, but we can also support the opposite case  using **`else`**. By saying **`else`** we are handling whatever inputs are not considered by the **`if`** statement. The **`else`** is put on a new line and is *not* indented (it should be lined up with the **`if`**), but the body of the **`else`** statement needs to be indented like the body of the **`if`** statement:"
      ]
    },
    {
      "cell_type": "code",
      "metadata": {
        "id": "08jBcAyJV7ij",
        "colab_type": "code",
        "colab": {}
      },
      "source": [
        "x = 6\n",
        "if x == 5:\n",
        "  print(\"x was 5\")\n",
        "else: # x != 5\n",
        "  print(\"x was not 5\")"
      ],
      "execution_count": 0,
      "outputs": []
    },
    {
      "cell_type": "markdown",
      "metadata": {
        "id": "4cSasoaAWEpc",
        "colab_type": "text"
      },
      "source": [
        "You can also make more complex decisions by using **`elif`** (else-if). Note that we can chain together **`if`-`elif`-`else`** statements!. You can define as many **`elif`** statements as you want."
      ]
    },
    {
      "cell_type": "code",
      "metadata": {
        "id": "FP-PvOHsW235",
        "colab_type": "code",
        "colab": {}
      },
      "source": [
        "x = -2\n",
        "if x > 0:\n",
        "  print(\"x was positive\")\n",
        "elif x < 0:\n",
        "  print(\"x was negative\")\n",
        "else:\n",
        "  print(\"x was neither positive nor negative\")"
      ],
      "execution_count": 0,
      "outputs": []
    },
    {
      "cell_type": "markdown",
      "metadata": {
        "id": "XLu9lx0AmZVk",
        "colab_type": "text"
      },
      "source": [
        "---\n",
        "## Exercise 7:\n",
        "You are given the result of a game as a list where the first element is the number of rounds Player 1 won and the second element is the number of rounds Player 2 won. \n",
        "- If Player 1 has a higher score than Player 2, print a message stating that Player 1 is winning the game.\n",
        "- If Player 2 has a higher score than Player 1, print a message stating that Player 2 is winning the game.\n",
        "- Otherwise, print a message stating that they are tied."
      ]
    },
    {
      "cell_type": "code",
      "metadata": {
        "id": "yXKUh7r2m-w1",
        "colab_type": "code",
        "colab": {}
      },
      "source": [
        "current_score = [0, 1]"
      ],
      "execution_count": 0,
      "outputs": []
    },
    {
      "cell_type": "markdown",
      "metadata": {
        "id": "7m3pzK_qnCgq",
        "colab_type": "text"
      },
      "source": [
        "*Solution*"
      ]
    },
    {
      "cell_type": "code",
      "metadata": {
        "id": "Q3N8WNhqmYlr",
        "colab_type": "code",
        "colab": {}
      },
      "source": [
        "if current_score[0] > current_score[1]:\n",
        "  print(\"Player 1 is winning!\")\n",
        "elif current_score[1] > current_score[0]:\n",
        "  print(\"Player 1 is winning!\")\n",
        "else:\n",
        "  print(\"The players are tied.\")"
      ],
      "execution_count": 0,
      "outputs": []
    },
    {
      "cell_type": "markdown",
      "metadata": {
        "id": "AXyQU8AKtZjr",
        "colab_type": "text"
      },
      "source": [
        "---"
      ]
    },
    {
      "cell_type": "markdown",
      "metadata": {
        "id": "qONEaet0jICs",
        "colab_type": "text"
      },
      "source": [
        "You can put **`if`** statements in the body of another **`if`** statement if you want to! This is called **nesting**: "
      ]
    },
    {
      "cell_type": "code",
      "metadata": {
        "id": "iJv2P1rgjN5p",
        "colab_type": "code",
        "colab": {}
      },
      "source": [
        "x = 5\n",
        "y = 10\n",
        "\n",
        "if x > 0:\n",
        "  if y > 0:\n",
        "    print(\"both x and y were positive\")"
      ],
      "execution_count": 0,
      "outputs": []
    },
    {
      "cell_type": "markdown",
      "metadata": {
        "id": "0I3tNUbW0Slc",
        "colab_type": "text"
      },
      "source": [
        "---\n",
        "## Exercise 8:\n",
        "Given the move that each player made, print which player won the match or if there was a tie. We've provided you with some code that handles the case where player 1 chose rock. Modify the **`XXXX`** in the identified lines to correctly handle other inputs."
      ]
    },
    {
      "cell_type": "code",
      "metadata": {
        "id": "rFHVEauQ0SRX",
        "colab_type": "code",
        "colab": {}
      },
      "source": [
        "player_1 = \"paper\"\n",
        "player_2 = \"scissors\"\n",
        "\n",
        "if player_1 == \"rock\": \n",
        "  if player_2 == \"scissors\":\n",
        "    print(\"Player 1 won the match\")\n",
        "  elif player_2 == \"paper\":\n",
        "    print(\"Player 2 won the match\")\n",
        "  else:\n",
        "    print(\"The match was tied\")\n",
        "elif player_1 == \"XXXX\":    # (*) TODO: check if player 1 played scissors\n",
        "  if player_2 == \"XXXX\":    # (*) TODO: create a condition that would mean player 1 won\n",
        "    print(\"Player 1 won the match\")\n",
        "  elif player_2 == \"XXXX\":  # (*) TODO: create a condition that would mean player 2 won\n",
        "    print(\"Player 2 won the match\")\n",
        "  else:\n",
        "    print(\"The match was tied\")\n",
        "elif XXXX XX XXXX:          # (*) TODO: check if player 1 played paper\n",
        "  if XXXX XX XXXX:          # (*) TODO: create a condition that would mean player 1 won\n",
        "    print(\"Player 1 won the match\") \n",
        "  elif XXXX XX XXXX:        # (*) TODO: create a condition that would mean player 2 won\n",
        "    print(\"Player 2 won the match\")\n",
        "  else:\n",
        "    print(\"The match was tied\")"
      ],
      "execution_count": 0,
      "outputs": []
    },
    {
      "cell_type": "markdown",
      "metadata": {
        "id": "9XhBRbnB0jWP",
        "colab_type": "text"
      },
      "source": [
        "*Solution*"
      ]
    },
    {
      "cell_type": "code",
      "metadata": {
        "id": "Q7opksQj0lHc",
        "colab_type": "code",
        "colab": {}
      },
      "source": [
        "player_1 = \"paper\"\n",
        "player_2 = \"scissors\"\n",
        "\n",
        "if player_1 == \"rock\": \n",
        "  if player_2 == \"scissors\":\n",
        "    print(\"Player 1 won the match\")\n",
        "  elif player_2 == \"paper\":\n",
        "    print(\"Player 2 won the match\")\n",
        "  else:\n",
        "    print(\"The match was tied\")\n",
        "elif player_1 == \"scissors\": \n",
        "  if player_2 == \"paper\":\n",
        "    print(\"Player 1 won the match\")\n",
        "  elif player_2 == \"rock\":\n",
        "    print(\"Player 2 won the match\")\n",
        "  else:\n",
        "    print(\"The match was tied\")\n",
        "else: # player 1 chose paper\n",
        "  if player_2 == \"rock\":\n",
        "    print(\"Player 1 won the match\")\n",
        "  elif player_2 == \"scissors\":\n",
        "    print(\"Player 2 won the match\")\n",
        "  else:\n",
        "    print(\"The match was tied\")"
      ],
      "execution_count": 0,
      "outputs": []
    },
    {
      "cell_type": "markdown",
      "metadata": {
        "id": "XRHyJ-JgvL2k",
        "colab_type": "text"
      },
      "source": [
        "---"
      ]
    },
    {
      "cell_type": "markdown",
      "metadata": {
        "id": "Upaf_AhOUpTx",
        "colab_type": "text"
      },
      "source": [
        "### Section 4.2: LOOPS"
      ]
    },
    {
      "cell_type": "markdown",
      "metadata": {
        "id": "5WfEBjRPXk6H",
        "colab_type": "text"
      },
      "source": [
        "Loops allow you to repeat tasks and come in two flavours: \n",
        "\n",
        "1.   Counting loops (for loops)\n",
        "2.   Conditional loops (while loops)"
      ]
    },
    {
      "cell_type": "markdown",
      "metadata": {
        "id": "vhqD5_TjXzvD",
        "colab_type": "text"
      },
      "source": [
        "**Section 4.2.1: COUNTING LOOPS (FOR LOOPS)**"
      ]
    },
    {
      "cell_type": "markdown",
      "metadata": {
        "id": "opWKG68wX21r",
        "colab_type": "text"
      },
      "source": [
        "**Counting loops** repeat a certain number of times; we call these **`for loops`** because they **occur once for every specified item**. For example, this could be for each element in a list.\n",
        "\n",
        "Like **`if`** statements, the syntax for a loop is to write the **`for`** statement on one line then to indent the body using 4 spaces. The **`for`** statement consists of the keyword **`for`** followed by a variable name followed by the keyword **`in`** followed by a list. The letters **`i`**, **`j`**, and **`k`** are commonly used to represent the **iterations** (number of repeats) of a loop, but you can define any variable name. \n",
        "\n",
        "Note that, just like with **`if`** statements, the *entire body* must be indented or any unindented parts will be executed *outside* of the loop.\n",
        "\n"
      ]
    },
    {
      "cell_type": "code",
      "metadata": {
        "id": "CeRE7LhQYAEO",
        "colab_type": "code",
        "colab": {}
      },
      "source": [
        "for i in [0, 1, 2, 3, 4, 5]:\n",
        "  print(i)"
      ],
      "execution_count": 0,
      "outputs": []
    },
    {
      "cell_type": "markdown",
      "metadata": {
        "id": "hhbGYd3tYOSY",
        "colab_type": "text"
      },
      "source": [
        "Instead of directly initializing the list, we can also use the **`range()`** function to generate a list. This is convenient when you want a loop to repeat a large number of times. Note that the argument given to **`range()`** is **non-inclusive**, so **`range(6)`** will not include the number 6 (but it *will* include the number 0):"
      ]
    },
    {
      "cell_type": "code",
      "metadata": {
        "id": "byKa_lqjYaJF",
        "colab_type": "code",
        "colab": {}
      },
      "source": [
        "for j in range(6): # create a list from 0 to 5\n",
        "  print(j)"
      ],
      "execution_count": 0,
      "outputs": []
    },
    {
      "cell_type": "markdown",
      "metadata": {
        "id": "UpC7GhXX3w41",
        "colab_type": "text"
      },
      "source": [
        "You can use the same syntax to iterate over the elements of *any* list, the list doesn't have to consist of numbers!"
      ]
    },
    {
      "cell_type": "code",
      "metadata": {
        "id": "Ake1a4eI4t8L",
        "colab_type": "code",
        "colab": {}
      },
      "source": [
        "pets = ['cat', 'dog', 'hamster']\n",
        "for pet in pets:\n",
        "  print(pet)"
      ],
      "execution_count": 0,
      "outputs": []
    },
    {
      "cell_type": "markdown",
      "metadata": {
        "id": "MywPvhYtYzER",
        "colab_type": "text"
      },
      "source": [
        "**Section 4.2.2: CONDITIONAL LOOPS (WHILE LOOPS)**"
      ]
    },
    {
      "cell_type": "markdown",
      "metadata": {
        "id": "TArRl5oQY626",
        "colab_type": "text"
      },
      "source": [
        "**Conditional loops** repeat until a condition is no longer satisfied; we call these **`while loops`** because they **repeat while a condition is true**. The condition is specified in a boolean expression. A **`while`** loop can do the same thing as a **`for`** loop as long as the condition is met. This means that usually something is written inside the body of the loop that might change the condition:"
      ]
    },
    {
      "cell_type": "code",
      "metadata": {
        "id": "T1qL4m0LZF9t",
        "colab_type": "code",
        "colab": {}
      },
      "source": [
        "i = 0\n",
        "while i <= 5: \n",
        "  print(i)\n",
        "  i = i + 1"
      ],
      "execution_count": 0,
      "outputs": []
    },
    {
      "cell_type": "markdown",
      "metadata": {
        "id": "VzCqJ7yA4QZJ",
        "colab_type": "text"
      },
      "source": [
        "In this example we sum the numbers from 0 to 10 using a loop:\n",
        "\n"
      ]
    },
    {
      "cell_type": "code",
      "metadata": {
        "id": "5hS1LFdC4eed",
        "colab_type": "code",
        "colab": {}
      },
      "source": [
        "loop_sum = 0\n",
        "i = 0\n",
        "\n",
        "while i <= 10:\n",
        "  loop_sum += i\n",
        "  i += 1\n",
        "  \n",
        "print(loop_sum)"
      ],
      "execution_count": 0,
      "outputs": []
    },
    {
      "cell_type": "markdown",
      "metadata": {
        "id": "MSISKhF0pCoF",
        "colab_type": "text"
      },
      "source": [
        "You can use **`break`** to get yourself out of a loop before it would normally end. This combined with **`if`** statements is powerful:"
      ]
    },
    {
      "cell_type": "code",
      "metadata": {
        "id": "BaugqWp2pLds",
        "colab_type": "code",
        "colab": {}
      },
      "source": [
        "loop_sum = 0\n",
        "i = 0\n",
        "\n",
        "while i <= 100: \n",
        "  loop_sum += i\n",
        "  \n",
        "  if loop_sum >= 500:\n",
        "    print(i)\n",
        "    break\n",
        "    \n",
        "  i += 1\n",
        "    \n",
        "print(loop_sum)"
      ],
      "execution_count": 0,
      "outputs": []
    },
    {
      "cell_type": "markdown",
      "metadata": {
        "id": "3oUyj0ycoKTc",
        "colab_type": "text"
      },
      "source": [
        "---\n",
        "## Exercise 9:\n",
        "You are given the skeleton code for a loop that asks for the moves of player 1 and player 2 using the **`input`** function. It runs until 3 matches have been played. The **`match_count`** should increment with each round, but *not* if the players choose the same move and tie a match (they should replay that match instead). If any user inputs an invalid move, the loop will exit. Change **`XXXX`** as indicated with the appropriate code:"
      ]
    },
    {
      "cell_type": "code",
      "metadata": {
        "id": "LYyzZE_orx_f",
        "colab_type": "code",
        "colab": {}
      },
      "source": [
        "match_count = 0\n",
        "valid_moves = ['rock', 'paper', 'scissors']\n",
        "\n",
        "while match_count XX XXXX: # (*) TODO: write a condition that will execute the loop while fewer than 3 matches have been played\n",
        "  player_1 = input(\"Player 1 move: \")\n",
        "  if XXXX XX XXXX: # (*) TODO: check if player 1's input is not a valid move (hint: use \"not in\")\n",
        "    print(\"Invalid entry, check your spelling\")\n",
        "    break\n",
        "  \n",
        "  player_2 = input(\"Player 2 move: \")\n",
        "  if XXXX XX XXXX: # (*) TODO: check if player 2's input is not a valid move (hint: use \"not in\")\n",
        "    print(\"Invalid entry, check your spelling\")\n",
        "    break\n",
        "  \n",
        "  if XXXX XX XXXX: # (*) TODO: check that the players did not choose the same move\n",
        "    match_count += 1\n",
        "\n",
        "# print a message to indicate the game is over\n",
        "print(\"The game is over\")"
      ],
      "execution_count": 0,
      "outputs": []
    },
    {
      "cell_type": "markdown",
      "metadata": {
        "id": "yyoAUbW8s_Bc",
        "colab_type": "text"
      },
      "source": [
        "*Solution*"
      ]
    },
    {
      "cell_type": "code",
      "metadata": {
        "id": "YZcxajOutAYv",
        "colab_type": "code",
        "colab": {}
      },
      "source": [
        "match_count = 0\n",
        "valid_moves = ['rock', 'paper', 'scissors']\n",
        "\n",
        "while match_count < 3: \n",
        "  player_1 = input(\"Player 1 move: \")\n",
        "  if player_1 not in valid_moves: \n",
        "    print(\"Invalid entry, check your spelling\")\n",
        "    break\n",
        "    \n",
        "  player_2 = input(\"Player 2 move: \")\n",
        "  if player_2 not in valid_moves: \n",
        "    print(\"Invalid entry, check your spelling\")\n",
        "    break\n",
        "  \n",
        "  if player_1 != player_2: \n",
        "    match_count += 1\n",
        "\n",
        "# print a message to indicate the game is over\n",
        "print(\"The game is over\")"
      ],
      "execution_count": 0,
      "outputs": []
    },
    {
      "cell_type": "markdown",
      "metadata": {
        "id": "cQs5UoTpo3sL",
        "colab_type": "text"
      },
      "source": [
        "---\n",
        "# Putting it all together: Rock-Paper-Scissors!"
      ]
    },
    {
      "cell_type": "markdown",
      "metadata": {
        "id": "dSWNgCf8LwPi",
        "colab_type": "text"
      },
      "source": [
        "Now we're going to combine everything that we've learned so far today into our game of rock-paper-scissors! We've given you some skeleton code below identifying all of the bits you need to fill in; every line with a comment that says **`(*)TODO`** has at least one **`XXXX`** that needs to be modified. We've provided some hints that will point you to different exercises that you've already completed in order to help you fill in the code!"
      ]
    },
    {
      "cell_type": "code",
      "metadata": {
        "id": "7mxYwzh5CluH",
        "colab_type": "code",
        "colab": {}
      },
      "source": [
        "from random import randint         # import an extra function for us to use\n",
        "\n",
        "valid_moves = [XXX, XXX, XXX]      # (*) TODO: create a list of valid moves (see exercise 4)\n",
        "\n",
        "score = [0, 0]                     # two scores: score[0] is the player and score[1] is the computer\n",
        "match = 0                          # the current number of matches that have been played\n",
        "\n",
        "while XXXX XX XXXX:                # (*) TODO: create a condition that will check how many matches should be played (see exercise 9) \n",
        "                                   # -> Question: why should this number be odd?\n",
        "    \n",
        "  player_move = input(\"XXXX: \")    # (*) TODO: write a message to appear when you are prompted to type in your move, (see section 2.1)\n",
        "  if XXXX XX XXXX:                 # (*) TODO: add a check if the move is *not* a valid move (see exercise 9)\n",
        "    print(\"Invalid move! Check spelling\")\n",
        "    break\n",
        "  \n",
        "  i = randint(0,2)                 # this code picks an integer between 0 and 2 at random\n",
        "  computer_move = valid_moves[i]   # we use this random integer to pick a move for the computer\n",
        "  print(\"XXXX\")                    # (*) TODO: print a message to describe the move the computer played (see section 1)\n",
        "  \n",
        "  # if the player and the computer chose the same move, we have to replay the match so don't increase the match count\n",
        "  if player_move == computer_move:\n",
        "    print(\"Tied, replaying round\")\n",
        "    \n",
        "  # otherwise they chose different moves\n",
        "  else:               \n",
        "    match += 1                    # increase the match number by 1 because the player and computer chose different moves\n",
        "    \n",
        "    # first possibility: you chose rock\n",
        "    if player_move == 'rock':\n",
        "      if computer_move == 'scissors':\n",
        "        score[0] += 1             # increase your score by 1, since you won this match\n",
        "        print(\"Rock beats scissors! You win this round!\")\n",
        "      else:   # comp = paper\n",
        "        score[1] += 1             # increase computer's score by 1, since the computer won this match\n",
        "        print(\"Paper beats rock! Computer wins this round!\")\n",
        "\n",
        "    # second possibility: you chose paper\n",
        "    elif XXXX XX XXXX:            # (*) TODO: change to a condition that will check if the player played paper (see section 3.2)\n",
        "      if XXXX XX XXXX:            # (*) TODO: change to a condition that will check if the computer played scissors (see section 3.2)\n",
        "        XXXX                      # (*) TODO: add code to increase the score for the winner by 1 (see exercise 5)\n",
        "        print(\"XXXX\")             # (*) TODO: print a message indicating the result and who won the round\n",
        "      else:                   \n",
        "        XXXX                      # (*) TODO: add code to increase the score for the winner by 1 (see exercise 5)\n",
        "        print(\"XXXX\")             # (*) TODO: print a message indicating the result and who won the round\n",
        "\n",
        "    # third possibility: you chose scissors\n",
        "    else:\n",
        "      if XXXX XX XXXX:            # (*) TODO: change to a condition that will check if the computer played rock\n",
        "        XXXX                      # (*) TODO: add code to increase the score for the winner by 1 (see exercise 5) \n",
        "        print(\"XXXX\")             # (*) TODO: print a message indicating the result and who won the round\n",
        "      else:\n",
        "        XXXX                      # (*) TODO: add code to increase the score for the winner by 1 (see exercise 5)\n",
        "        print(\"XXXX\")             # (*) TODO: print a message indicating the result and who won the round\n",
        "\n",
        "# after all matches are played, describe final result\n",
        "if XXXX XX XXXX:                  # (*) TODO: change to a condition that checks if the player won (see exercise 7)\n",
        "  print(\"XXXX\")                   # (*) TODO: print a message for when you win overall\n",
        "elif XXXX XX XXXX:                # (*) TODO: change to a condition that checks if the computer won (see exercise 7)\n",
        "  print(\"XXXX\")                   # (*) TODO: print a message for when the computer wins overall"
      ],
      "execution_count": 0,
      "outputs": []
    },
    {
      "cell_type": "markdown",
      "metadata": {
        "id": "SBbonhQCMsqJ",
        "colab_type": "text"
      },
      "source": [
        "*Solution*"
      ]
    },
    {
      "cell_type": "code",
      "metadata": {
        "id": "DYfjd2ZfMt-o",
        "colab_type": "code",
        "colab": {}
      },
      "source": [
        "from random import randint         # import an extra function for us to use\n",
        "\n",
        "valid_moves = ['rock', 'paper', 'scissors']                 \n",
        "\n",
        "score = [0, 0]                     # two scores, score[0] is the player and score[1] is the computer\n",
        "match = 0                          # the current number of matches that have been played\n",
        "\n",
        "while match < 3:                   # -> Question: why should this number be odd?\n",
        "    \n",
        "  player_move = input(\"Choose your move: \")            \n",
        "  if player_move not in valid_moves:\n",
        "    print(\"Invalid move! Check spelling\")                        \n",
        "    break\n",
        "  \n",
        "  i = randint(0,2)                 # this code picks an integer between 0 and 2 at random\n",
        "  computer_move = valid_moves[i]   # we use this random integer to pick a move for the computer\n",
        "  \n",
        "  print(\"Computer chose \" + computer_move)\n",
        "  \n",
        "  # if the player and the computer chose the same move, we have to replay the match so don't increase the match count\n",
        "  if player_move == computer_move:\n",
        "    print(\"Tied, replaying round\")\n",
        "    \n",
        "  # otherwise they chose different moves\n",
        "  else:               \n",
        "    match += 1                    # increase the match number by 1 because the player and computer chose different moves\n",
        "    \n",
        "    # first possibility: you chose rock\n",
        "    if player_move == 'rock':\n",
        "      if computer_move == 'scissors':\n",
        "        score[0] += 1             # increase your score by 1, since you won this match\n",
        "        print(\"Rock beats scissors! You win this round!\")\n",
        "      else:   # comp = paper\n",
        "        score[1] += 1             # increase computer's score by 1, since the computer won this match\n",
        "        print(\"Paper beats rock! Computer wins this round!\")\n",
        "\n",
        "    # second possibility: you chose paper\n",
        "    elif player_move == 'paper': \n",
        "      if computer_move == 'scissors':\n",
        "        score[1] += 1\n",
        "        print(\"Scissors beats paper! Computer wins this round!\")\n",
        "      else:                   \n",
        "        score[0] += 1\n",
        "        print(\"Paper beats rock! You win this round!\")\n",
        "\n",
        "    # third possibility: scissors\n",
        "    else:\n",
        "      if computer_move == 'rock':\n",
        "        score[1] += 1\n",
        "        print(\"Rock beats scissors! Computer wins this round!\")\n",
        "      else:\n",
        "        score[0] += 1\n",
        "        print(\"Scissors beats paper! You win this round!\")\n",
        "\n",
        "# after all matches are played, describe final result\n",
        "if score[0] > score[1]:                         \n",
        "  print(\"Player won the game :)\")                         \n",
        "elif score[1] > score[0]:                       \n",
        "  print(\"Computer won the game :(\")                        "
      ],
      "execution_count": 0,
      "outputs": []
    }
  ]
}