{
  "nbformat": 4,
  "nbformat_minor": 0,
  "metadata": {
    "kernelspec": {
      "display_name": "Python 3 (system-wide)",
      "language": "python",
      "metadata": {
        "cocalc": {
          "description": "Python 3 programming language",
          "priority": 100,
          "url": "https://www.python.org/"
        }
      },
      "name": "python3"
    },
    "language_info": {
      "codemirror_mode": {
        "name": "ipython",
        "version": 3
      },
      "file_extension": ".py",
      "mimetype": "text/x-python",
      "name": "python",
      "nbconvert_exporter": "python",
      "pygments_lexer": "ipython3",
      "version": "3.6.8"
    },
    "colab": {
      "name": "HCC_Day2_Answers.ipynb",
      "version": "0.3.2",
      "provenance": []
    }
  },
  "cells": [
    {
      "cell_type": "markdown",
      "metadata": {
        "collapsed": false,
        "id": "I9CLztIjBtLs",
        "colab_type": "text"
      },
      "source": [
        "<h3>Building a Cancer Classifier using Random Forest</h3>"
      ]
    },
    {
      "cell_type": "markdown",
      "metadata": {
        "collapsed": false,
        "id": "AVLJxPurBtL1",
        "colab_type": "text"
      },
      "source": [
        "<h4>1- Load The Required Packages</h4>"
      ]
    },
    {
      "cell_type": "code",
      "metadata": {
        "id": "_TX2bmNZBtL7",
        "colab_type": "code",
        "colab": {}
      },
      "source": [
        "import pandas as pd                                              #data manupilation\n",
        "from sklearn.model_selection import train_test_split             #splitting the data to train and test\n",
        "from sklearn import tree                                         #running a decision tree\n",
        "from sklearn.ensemble import RandomForestClassifier              #running a random forest\n",
        "from sklearn import datasets                                     #saved datasets\n",
        "\n",
        "from sklearn import metrics                                      #assessing model performance\n",
        "from sklearn.metrics import classification_report                #assessing model performance\n",
        "from sklearn.metrics import confusion_matrix                     #assessing model performance\n",
        "import matplotlib.pyplot as plt                                  #visualize model performance\n",
        "\n",
        "pd.set_option('display.max_columns', 30)                         #display all columns in your data"
      ],
      "execution_count": 0,
      "outputs": []
    },
    {
      "cell_type": "markdown",
      "metadata": {
        "collapsed": false,
        "id": "zLOuVWAMBtMQ",
        "colab_type": "text"
      },
      "source": [
        "<h4>2- Load The Data</h4>"
      ]
    },
    {
      "cell_type": "code",
      "metadata": {
        "scrolled": true,
        "id": "4ZsGuSuzBtMV",
        "colab_type": "code",
        "colab": {}
      },
      "source": [
        "cancer = datasets.load_breast_cancer()\n",
        "X=pd.DataFrame(cancer.data,columns=[cancer.feature_names])      #define your features\n",
        "Y=pd.Series(cancer.target)                                      #define the target variable\n",
        "X.head()                                                        #view the first few rows from your features"
      ],
      "execution_count": 0,
      "outputs": []
    },
    {
      "cell_type": "code",
      "metadata": {
        "id": "uP8xXtd3BtMo",
        "colab_type": "code",
        "colab": {}
      },
      "source": [
        "#print the dimensions of the dataset\n",
        "print(X.shape)"
      ],
      "execution_count": 0,
      "outputs": []
    },
    {
      "cell_type": "code",
      "metadata": {
        "id": "SRCe6vy7BtM9",
        "colab_type": "code",
        "colab": {}
      },
      "source": [
        "#let's look at column names\n",
        "X.columns"
      ],
      "execution_count": 0,
      "outputs": []
    },
    {
      "cell_type": "code",
      "metadata": {
        "id": "Tpkv-oPnBtNP",
        "colab_type": "code",
        "colab": {}
      },
      "source": [
        "#let's summarize the data\n",
        "X.describe()"
      ],
      "execution_count": 0,
      "outputs": []
    },
    {
      "cell_type": "markdown",
      "metadata": {
        "collapsed": false,
        "id": "a7pQQ5DRBtNh",
        "colab_type": "text"
      },
      "source": [
        "<h4>3- Split to Train and Test</h4>"
      ]
    },
    {
      "cell_type": "code",
      "metadata": {
        "id": "BUrjNkjLBtNp",
        "colab_type": "code",
        "colab": {}
      },
      "source": [
        "#split the data to 70% train and 30% test\n",
        "x_train,x_test,y_train,y_test = train_test_split(X,Y,test_size=0.3,random_state=42)\n",
        "\n",
        "print(x_train.shape)\n",
        "print(x_test.shape)\n",
        "print(y_train.shape)\n",
        "print(y_test.shape)"
      ],
      "execution_count": 0,
      "outputs": []
    },
    {
      "cell_type": "markdown",
      "metadata": {
        "collapsed": false,
        "id": "1GjOaBgIBtN9",
        "colab_type": "text"
      },
      "source": [
        "<h4>4- Train your model: Random Forest</h4>"
      ]
    },
    {
      "cell_type": "code",
      "metadata": {
        "id": "dtnfOp-oBtOF",
        "colab_type": "code",
        "colab": {}
      },
      "source": [
        "rf_model = RandomForestClassifier(max_depth=3,n_estimators=15)        #define the model\n",
        "rf_model.fit(x_train, y_train)                                        #fit the model (train)\n",
        "rf_model.score(x_train,y_train)                                       #predict on new observations\n",
        "\n",
        "#what is the accuracy of this model?"
      ],
      "execution_count": 0,
      "outputs": []
    },
    {
      "cell_type": "markdown",
      "metadata": {
        "collapsed": false,
        "id": "HnRbqhP7BtOd",
        "colab_type": "text"
      },
      "source": [
        "Let's visualize this tree! (https://medium.com/@rnbrown/creating-and-visualizing-decision-trees-with-python-f8e8fa394176)"
      ]
    },
    {
      "cell_type": "code",
      "metadata": {
        "id": "tkQcbuHrBtOi",
        "colab_type": "code",
        "colab": {}
      },
      "source": [
        "#select which tree do you want to visualize\n",
        "selected_tree=2\n",
        "\n",
        "from sklearn.externals.six import StringIO\n",
        "from IPython.display import Image\n",
        "from sklearn.tree import export_graphviz\n",
        "import pydotplus\n",
        "dot_data2 = StringIO()\n",
        "export_graphviz(rf_model.estimators_[selected_tree],\n",
        "                out_file=dot_data2,\n",
        "                filled=True,\n",
        "                precision=2,\n",
        "                feature_names=x_train.columns,\n",
        "                rounded=True)\n",
        "graph = pydotplus.graph_from_dot_data(dot_data2.getvalue())\n",
        "Image(graph.create_png())"
      ],
      "execution_count": 0,
      "outputs": []
    },
    {
      "cell_type": "markdown",
      "metadata": {
        "collapsed": false,
        "id": "Itf7CkHNBtO1",
        "colab_type": "text"
      },
      "source": [
        "<h4>5- Predict!</h4>"
      ]
    },
    {
      "cell_type": "code",
      "metadata": {
        "id": "OMz9hc5ABtO8",
        "colab_type": "code",
        "colab": {}
      },
      "source": [
        "#let's pull information from one patient from the test set\n",
        "patient1_test=(x_test.iloc[0:1,:])\n",
        "patient1_test"
      ],
      "execution_count": 0,
      "outputs": []
    },
    {
      "cell_type": "code",
      "metadata": {
        "id": "66LuXzC4BtPN",
        "colab_type": "code",
        "colab": {}
      },
      "source": [
        "#what would our model predict? Malignant or Benign?\n",
        "rf_model.predict(patient1_test)"
      ],
      "execution_count": 0,
      "outputs": []
    },
    {
      "cell_type": "code",
      "metadata": {
        "id": "i8vzcuTEBtPg",
        "colab_type": "code",
        "colab": {}
      },
      "source": [
        "#can we predict the probability of a patient being malignant or benign?\n",
        "rf_model.predict_proba(patient1_test)"
      ],
      "execution_count": 0,
      "outputs": []
    },
    {
      "cell_type": "code",
      "metadata": {
        "id": "EcQN2KIGBtPu",
        "colab_type": "code",
        "colab": {}
      },
      "source": [
        "#Can we predict multiple patients at once?\n",
        "rf_model.predict(x_test)"
      ],
      "execution_count": 0,
      "outputs": []
    },
    {
      "cell_type": "code",
      "metadata": {
        "id": "Ui3xzRDyBtP7",
        "colab_type": "code",
        "colab": {}
      },
      "source": [
        "#can we get the probability of each test case being malignant or benign? (display the first 10 lines)\n",
        "rf_model.predict_proba(x_test)[0:10]\n",
        "\n",
        "#do you see how the 0 and 1 were generated in the previous command?"
      ],
      "execution_count": 0,
      "outputs": []
    },
    {
      "cell_type": "markdown",
      "metadata": {
        "collapsed": false,
        "id": "ZN5iyEFxBtQJ",
        "colab_type": "text"
      },
      "source": [
        "<h4>6- How well did we predict?</h4>"
      ]
    },
    {
      "cell_type": "code",
      "metadata": {
        "id": "8gfrpXQMBtQP",
        "colab_type": "code",
        "colab": {}
      },
      "source": [
        "#what is the accuracy of the model on the test set?\n",
        "rf_model.score(x_test,y_test)"
      ],
      "execution_count": 0,
      "outputs": []
    },
    {
      "cell_type": "code",
      "metadata": {
        "id": "gkouxr9VBtQg",
        "colab_type": "code",
        "colab": {}
      },
      "source": [
        "#let's generate a confusion matrix!\n",
        "pd.DataFrame(confusion_matrix(y_test,rf_model.predict(x_test)),index=['benign','malignant'],columns=['predicted benign','predicted malignant'])"
      ],
      "execution_count": 0,
      "outputs": []
    },
    {
      "cell_type": "markdown",
      "metadata": {
        "collapsed": false,
        "id": "Ax0t0McVBtQv",
        "colab_type": "text"
      },
      "source": [
        "<h4>7- Identifying the important questions!</h4>"
      ]
    },
    {
      "cell_type": "code",
      "metadata": {
        "id": "Jd6hXgpYBtQz",
        "colab_type": "code",
        "colab": {}
      },
      "source": [
        "#let's create a data frame that contains information about how important each question is in generating the correct prediction!\n",
        "feature_importances = pd.DataFrame(rf_model.feature_importances_,\n",
        "                                   index = x_train.columns,\n",
        "                                    columns=['importance']).sort_values('importance',                                                                 ascending=False)"
      ],
      "execution_count": 0,
      "outputs": []
    },
    {
      "cell_type": "code",
      "metadata": {
        "id": "6DWErIA1BtRB",
        "colab_type": "code",
        "colab": {}
      },
      "source": [
        "#display the dataframe. Which questions do you think are important?\n",
        "feature_importances"
      ],
      "execution_count": 0,
      "outputs": []
    },
    {
      "cell_type": "markdown",
      "metadata": {
        "collapsed": false,
        "id": "lWDcXEJABtRP",
        "colab_type": "text"
      },
      "source": [
        "<h4>8- Let's build another model with less features!</h4>"
      ]
    },
    {
      "cell_type": "code",
      "metadata": {
        "id": "EnizPf06BtRT",
        "colab_type": "code",
        "colab": {}
      },
      "source": [
        "#subset the questions we are interested in\n",
        "X_reduced=X[['worst perimeter','worst concave points','worst radius','mean concave points','worst concavity']]   #define your features\n",
        "Y=pd.Series(cancer.target)                                                                                       #define the target\n",
        "X_reduced.head()"
      ],
      "execution_count": 0,
      "outputs": []
    },
    {
      "cell_type": "code",
      "metadata": {
        "id": "wlO0kqA7BtRz",
        "colab_type": "code",
        "colab": {}
      },
      "source": [
        "#split into train and test\n",
        "x_train,x_test,y_train,y_test = train_test_split(X_reduced,Y,test_size=0.3,random_state=42)\n"
      ],
      "execution_count": 0,
      "outputs": []
    },
    {
      "cell_type": "code",
      "metadata": {
        "id": "--WnqH2SBtSL",
        "colab_type": "code",
        "colab": {}
      },
      "source": [
        "#train a new model!\n",
        "rf_model = RandomForestClassifier(max_depth=3,n_estimators=15)        #define the model\n",
        "rf_model.fit(x_train, y_train)                                        #fit the model (train)\n",
        "rf_model.score(x_train,y_train)                                       #predict on new observations\n",
        "\n",
        "#what is the accuracy of this model?"
      ],
      "execution_count": 0,
      "outputs": []
    },
    {
      "cell_type": "code",
      "metadata": {
        "id": "Z-urshW5BtSW",
        "colab_type": "code",
        "colab": {}
      },
      "source": [
        "#save the model!\n",
        "from sklearn.externals import joblib\n",
        "\n",
        "joblib.dump(rf_model, \"cancer_classifier.pkl\")    #save the whole model into a file to be used later\n",
        "\n",
        "#to load the model next time we just need to do:\n",
        "#classifer = joblib.load(\"model.pkl\")\n",
        "#classifer.predict(newobs)"
      ],
      "execution_count": 0,
      "outputs": []
    },
    {
      "cell_type": "markdown",
      "metadata": {
        "collapsed": false,
        "id": "vU2rs8Z_BtSh",
        "colab_type": "text"
      },
      "source": [
        "<center><h3>Congratulations! You have built your first classifier!</h3></center>\n",
        "<center><h5>www.thecodinghive.com</h5></center>"
      ]
    },
    {
      "cell_type": "code",
      "metadata": {
        "id": "zUSMQUVhBtSm",
        "colab_type": "code",
        "colab": {}
      },
      "source": [
        ""
      ],
      "execution_count": 0,
      "outputs": []
    }
  ]
}