{
  "nbformat": 4,
  "nbformat_minor": 0,
  "metadata": {
    "kernelspec": {
      "display_name": "Python 3 (system-wide)",
      "language": "python",
      "metadata": {
        "cocalc": {
          "description": "Python 3 programming language",
          "priority": 100,
          "url": "https://www.python.org/"
        }
      },
      "name": "python3"
    },
    "language_info": {
      "codemirror_mode": {
        "name": "ipython",
        "version": 3
      },
      "file_extension": ".py",
      "mimetype": "text/x-python",
      "name": "python",
      "nbconvert_exporter": "python",
      "pygments_lexer": "ipython3",
      "version": "3.6.8"
    },
    "colab": {
      "name": "HCC_Day2.ipynb",
      "version": "0.3.2",
      "provenance": []
    }
  },
  "cells": [
    {
      "cell_type": "markdown",
      "metadata": {
        "collapsed": false,
        "id": "yHsEbkfwBfUi",
        "colab_type": "text"
      },
      "source": [
        "<h3>Building a Cancer Classifier using Random Forest</h3>"
      ]
    },
    {
      "cell_type": "markdown",
      "metadata": {
        "collapsed": false,
        "id": "Va8HqIaNBfUo",
        "colab_type": "text"
      },
      "source": [
        "<h4>1- Load The Required Packages</h4>"
      ]
    },
    {
      "cell_type": "code",
      "metadata": {
        "id": "tB48jKF6BfUv",
        "colab_type": "code",
        "colab": {}
      },
      "source": [
        "import pandas as pd                                              #data manupilation\n",
        "from sklearn.model_selection import train_test_split             #splitting the data to train and test\n",
        "from sklearn import tree                                         #running a decision tree\n",
        "from sklearn.ensemble import RandomForestClassifier              #running a random forest\n",
        "from sklearn import datasets                                     #saved datasets\n",
        "\n",
        "from sklearn import metrics                                      #assessing model performance\n",
        "from sklearn.metrics import classification_report                #assessing model performance\n",
        "from sklearn.metrics import confusion_matrix                     #assessing model performance\n",
        "import matplotlib.pyplot as plt                                  #visualize model performance\n",
        "\n",
        "pd.set_option('display.max_columns', 30)                         #display all columns in your data"
      ],
      "execution_count": 0,
      "outputs": []
    },
    {
      "cell_type": "markdown",
      "metadata": {
        "collapsed": false,
        "id": "Of6M4fpHBfVQ",
        "colab_type": "text"
      },
      "source": [
        "<h4>2- Load The Data</h4>"
      ]
    },
    {
      "cell_type": "code",
      "metadata": {
        "scrolled": true,
        "id": "aZiIEWh1BfVU",
        "colab_type": "code",
        "colab": {}
      },
      "source": [
        "cancer =\n",
        "X=      #define your features\n",
        "Y=      #define the target variable\n",
        "X.head()                                                        #view the first few rows from your features"
      ],
      "execution_count": 0,
      "outputs": []
    },
    {
      "cell_type": "code",
      "metadata": {
        "id": "xi8tXy8ABfVl",
        "colab_type": "code",
        "colab": {}
      },
      "source": [
        "#print the dimensions of the dataset\n",
        "print()"
      ],
      "execution_count": 0,
      "outputs": []
    },
    {
      "cell_type": "code",
      "metadata": {
        "id": "l62tjmgQBfV2",
        "colab_type": "code",
        "colab": {}
      },
      "source": [
        "#let's look at column names\n"
      ],
      "execution_count": 0,
      "outputs": []
    },
    {
      "cell_type": "code",
      "metadata": {
        "id": "3N8ziXDUBfWG",
        "colab_type": "code",
        "colab": {}
      },
      "source": [
        "#let's summarize the data\n"
      ],
      "execution_count": 0,
      "outputs": []
    },
    {
      "cell_type": "markdown",
      "metadata": {
        "collapsed": false,
        "id": "4pKmqYZmBfWU",
        "colab_type": "text"
      },
      "source": [
        "<h4>3- Split to Train and Test</h4>"
      ]
    },
    {
      "cell_type": "code",
      "metadata": {
        "id": "qAoQ6a1MBfWY",
        "colab_type": "code",
        "colab": {}
      },
      "source": [
        "#split the data to 70% train and 30% test\n",
        "x_train,x_test,y_train,y_test = \n",
        "\n",
        "print(x_train.shape)\n",
        "print(x_test.shape)\n",
        "print(y_train.shape)\n",
        "print(y_test.shape)"
      ],
      "execution_count": 0,
      "outputs": []
    },
    {
      "cell_type": "markdown",
      "metadata": {
        "collapsed": false,
        "id": "yphC9zHIBfWn",
        "colab_type": "text"
      },
      "source": [
        "<h4>4- Train your model: Random Forest</h4>"
      ]
    },
    {
      "cell_type": "code",
      "metadata": {
        "id": "DMI3zN4IBfWr",
        "colab_type": "code",
        "colab": {}
      },
      "source": [
        "rf_model =         #define the model\n",
        "                                       #fit the model (train)\n",
        "                                       #predict on new observations\n",
        "\n",
        "#what is the accuracy of this model?"
      ],
      "execution_count": 0,
      "outputs": []
    },
    {
      "cell_type": "markdown",
      "metadata": {
        "collapsed": false,
        "id": "VsFSmNnxBfW5",
        "colab_type": "text"
      },
      "source": [
        "Let's visualize this tree! (https://medium.com/@rnbrown/creating-and-visualizing-decision-trees-with-python-f8e8fa394176)"
      ]
    },
    {
      "cell_type": "code",
      "metadata": {
        "id": "GX-dI6rfBfW9",
        "colab_type": "code",
        "colab": {}
      },
      "source": [
        "#select which tree do you want to visualize\n",
        "selected_tree=2\n",
        "\n",
        "from sklearn.externals.six import StringIO\n",
        "from IPython.display import Image\n",
        "from sklearn.tree import export_graphviz\n",
        "import pydotplus\n",
        "dot_data2 = StringIO()\n",
        "export_graphviz(rf_model.estimators_[selected_tree],\n",
        "                out_file=dot_data2,\n",
        "                filled=True,\n",
        "                precision=2,\n",
        "                feature_names=x_train.columns,\n",
        "                rounded=True)\n",
        "graph = pydotplus.graph_from_dot_data(dot_data2.getvalue())\n",
        "Image(graph.create_png())"
      ],
      "execution_count": 0,
      "outputs": []
    },
    {
      "cell_type": "markdown",
      "metadata": {
        "collapsed": false,
        "id": "LGsy-KyEBfXL",
        "colab_type": "text"
      },
      "source": [
        "<h4>5- Predict!</h4>"
      ]
    },
    {
      "cell_type": "code",
      "metadata": {
        "id": "XYs3968UBfXP",
        "colab_type": "code",
        "colab": {}
      },
      "source": [
        "#let's pull information from one patient from the test set\n",
        "patient1_test=\n",
        "patient1_test"
      ],
      "execution_count": 0,
      "outputs": []
    },
    {
      "cell_type": "code",
      "metadata": {
        "id": "myJJTdnfBfXc",
        "colab_type": "code",
        "colab": {}
      },
      "source": [
        "#what would our model predict? Malignant or Benign?\n"
      ],
      "execution_count": 0,
      "outputs": []
    },
    {
      "cell_type": "code",
      "metadata": {
        "id": "AyeqiQ5lBfXs",
        "colab_type": "code",
        "colab": {}
      },
      "source": [
        "#can we predict the probability of a patient being malignant or benign?\n"
      ],
      "execution_count": 0,
      "outputs": []
    },
    {
      "cell_type": "code",
      "metadata": {
        "id": "OO1TyyoYBfX8",
        "colab_type": "code",
        "colab": {}
      },
      "source": [
        "#Can we predict multiple patients at once?\n"
      ],
      "execution_count": 0,
      "outputs": []
    },
    {
      "cell_type": "code",
      "metadata": {
        "id": "xT2-fylBBfYI",
        "colab_type": "code",
        "colab": {}
      },
      "source": [
        "#can we get the probability of each test case being malignant or benign? (display the first 10 lines)\n",
        "\n",
        "\n",
        "#do you see how the 0 and 1 were generated in the previous command?"
      ],
      "execution_count": 0,
      "outputs": []
    },
    {
      "cell_type": "markdown",
      "metadata": {
        "collapsed": false,
        "id": "eWT-aAAZBfYU",
        "colab_type": "text"
      },
      "source": [
        "<h4>6- How well did we predict?</h4>"
      ]
    },
    {
      "cell_type": "code",
      "metadata": {
        "id": "iyqlGQsmBfYY",
        "colab_type": "code",
        "colab": {}
      },
      "source": [
        "#what is the accuracy of the model on the test set?\n"
      ],
      "execution_count": 0,
      "outputs": []
    },
    {
      "cell_type": "code",
      "metadata": {
        "id": "ZyVn2zoZBfYl",
        "colab_type": "code",
        "colab": {}
      },
      "source": [
        "#let's generate a confusion matrix!\n"
      ],
      "execution_count": 0,
      "outputs": []
    },
    {
      "cell_type": "markdown",
      "metadata": {
        "collapsed": false,
        "id": "tqsP_Mk2BfY1",
        "colab_type": "text"
      },
      "source": [
        "<h4>7- Identifying the important questions!</h4>"
      ]
    },
    {
      "cell_type": "code",
      "metadata": {
        "id": "pPt0mnpiBfY7",
        "colab_type": "code",
        "colab": {}
      },
      "source": [
        "#let's create a data frame that contains information about how important each question is in generating the correct prediction!\n"
      ],
      "execution_count": 0,
      "outputs": []
    },
    {
      "cell_type": "code",
      "metadata": {
        "id": "ZwOU0p8iBfZI",
        "colab_type": "code",
        "colab": {}
      },
      "source": [
        "#display the dataframe. Which questions do you think are important?\n",
        "feature_importances"
      ],
      "execution_count": 0,
      "outputs": []
    },
    {
      "cell_type": "markdown",
      "metadata": {
        "collapsed": false,
        "id": "Vppr_uSlBfZV",
        "colab_type": "text"
      },
      "source": [
        "<h4>8- Let's build another model with less features!</h4>"
      ]
    },
    {
      "cell_type": "code",
      "metadata": {
        "id": "0puRpOOUBfZb",
        "colab_type": "code",
        "colab": {}
      },
      "source": [
        "#subset the questions we are interested in\n",
        "X_reduced=X[['worst perimeter','worst concave points','worst radius','mean concave points','worst concavity']]   #define your features\n",
        "Y=pd.Series(cancer.target)                                                                                       #define the target\n",
        "X_reduced.head()"
      ],
      "execution_count": 0,
      "outputs": []
    },
    {
      "cell_type": "code",
      "metadata": {
        "id": "NT38qtLgBfZ2",
        "colab_type": "code",
        "colab": {}
      },
      "source": [
        "#split into train and test\n",
        "x_train,x_test,y_train,y_test = train_test_split(X_reduced,Y,test_size=0.3,random_state=42)\n"
      ],
      "execution_count": 0,
      "outputs": []
    },
    {
      "cell_type": "code",
      "metadata": {
        "id": "Qne-KL40BfaJ",
        "colab_type": "code",
        "colab": {}
      },
      "source": [
        "#train a new model!\n",
        "rf_model = RandomForestClassifier(max_depth=3,n_estimators=15)        #define the model\n",
        "rf_model.fit(x_train, y_train)                                        #fit the model (train)\n",
        "rf_model.score(x_train,y_train)                                       #predict on new observations\n",
        "\n",
        "#what is the accuracy of this model?"
      ],
      "execution_count": 0,
      "outputs": []
    },
    {
      "cell_type": "code",
      "metadata": {
        "id": "ViV2c4PBBfaW",
        "colab_type": "code",
        "colab": {}
      },
      "source": [
        "#save the model!\n",
        "from sklearn.externals import joblib\n",
        "\n",
        "joblib.dump(rf_model, \"cancer_classifier.pkl\")    #save the whole model into a file to be used later\n",
        "\n",
        "#to load the model next time we just need to do:\n",
        "#classifer = joblib.load(\"model.pkl\")\n",
        "#classifer.predict(newobs)"
      ],
      "execution_count": 0,
      "outputs": []
    },
    {
      "cell_type": "markdown",
      "metadata": {
        "collapsed": false,
        "id": "wnVzfRpwBfaj",
        "colab_type": "text"
      },
      "source": [
        "<center><h3>Congratulations! You have built your first classifier!</h3></center>\n",
        "<center><h5>www.thecodinghive.com</h5></center>"
      ]
    },
    {
      "cell_type": "code",
      "metadata": {
        "id": "dbhcvZoUBfam",
        "colab_type": "code",
        "colab": {}
      },
      "source": [
        ""
      ],
      "execution_count": 0,
      "outputs": []
    }
  ]
}